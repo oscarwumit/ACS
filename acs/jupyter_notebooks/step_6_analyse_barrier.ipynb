{
 "cells": [
  {
   "cell_type": "code",
   "execution_count": 1,
   "metadata": {},
   "outputs": [
    {
     "data": {
      "text/html": [
       "<style>.container { width:100% !important; }</style>"
      ],
      "text/plain": [
       "<IPython.core.display.HTML object>"
      ]
     },
     "metadata": {},
     "output_type": "display_data"
    }
   ],
   "source": [
    "import numpy as np\n",
    "import pandas as pd\n",
    "import seaborn as sns\n",
    "\n",
    "%load_ext autotime\n",
    "import os\n",
    "import shutil\n",
    "import yaml\n",
    "import matplotlib.pyplot as plt\n",
    "from scipy import interpolate\n",
    "from scipy.optimize import minimize\n",
    "from matplotlib.colors import ListedColormap\n",
    "from matplotlib.colors import to_hex\n",
    "from IPython.core.display import display, HTML\n",
    "display(HTML(\"<style>.container { width:100% !important; }</style>\"))\n",
    "import scipy.ndimage.filters as filters\n",
    "import scipy.ndimage.morphology as morphology\n",
    "\n",
    "from arc.species.species import ARCSpecies\n",
    "from arc.species.converter import modify_coords, xyz_to_xyz_file_format, cluster_confs_by_rmsd, compare_confs\n",
    "from arc.plotter import show_sticks\n",
    "from arc.common import key_by_val\n",
    "from arc.parser import parse_e_elect, parse_geometry, parse_frequencies\n",
    "import rmgpy.constants as constants \n",
    "from arc.exceptions import ParserError\n",
    "import re"
   ]
  },
  {
   "cell_type": "code",
   "execution_count": 2,
   "metadata": {},
   "outputs": [
    {
     "name": "stdout",
     "output_type": "stream",
     "text": [
      "/home/oscarwu/Dropbox (MIT)/Scripts/TS_conf_search\n",
      "time: 491 µs\n"
     ]
    }
   ],
   "source": [
    "cwd = os.getcwd()\n",
    "print(cwd)"
   ]
  },
  {
   "cell_type": "code",
   "execution_count": 3,
   "metadata": {},
   "outputs": [
    {
     "name": "stdout",
     "output_type": "stream",
     "text": [
      "time: 11.5 ms\n"
     ]
    }
   ],
   "source": [
    "def get_energy(logfile):\n",
    "    energy_dict = dict()\n",
    "    e_j_mol = parse_e_elect(logfile)\n",
    "    energy_dict['J/mol'] = e_j_mol\n",
    "    e_kj_mol = e_j_mol / 1000\n",
    "    energy_dict['kJ/mol'] = e_kj_mol\n",
    "    e_kcal_mol = e_j_mol / 4184\n",
    "    energy_dict['kcal/mol'] = e_kcal_mol\n",
    "    e_scf = round(e_j_mol/(constants.E_h * constants.Na / 1000), 9)\n",
    "    energy_dict['scf'] = e_scf\n",
    "    return energy_dict"
   ]
  },
  {
   "cell_type": "code",
   "execution_count": 4,
   "metadata": {},
   "outputs": [
    {
     "name": "stdout",
     "output_type": "stream",
     "text": [
      "time: 6.48 ms\n"
     ]
    }
   ],
   "source": [
    "def get_geometry(logfile, plot=False):\n",
    "    xyz = parse_geometry(logfile)\n",
    "    if plot:\n",
    "        show_sticks(xyz)\n",
    "    return xyz"
   ]
  },
  {
   "cell_type": "code",
   "execution_count": 5,
   "metadata": {},
   "outputs": [
    {
     "name": "stdout",
     "output_type": "stream",
     "text": [
      "time: 778 µs\n"
     ]
    }
   ],
   "source": [
    "# sp_results_folder = 'ts2005_solvation_correction_comparison_results'\n",
    "sp_results_folder = 'imipramine_4_oo_sp_after_opt_results'"
   ]
  },
  {
   "cell_type": "code",
   "execution_count": 6,
   "metadata": {},
   "outputs": [
    {
     "name": "stdout",
     "output_type": "stream",
     "text": [
      "time: 2.04 ms\n"
     ]
    }
   ],
   "source": [
    "# subfolders = os.listdir(os.path.join(cwd, sp_results_folder))\n",
    "# subfolders.remove('dlpno_wb97xd_def2svp_liq')\n",
    "# subfolders.remove('dlpno_wb97xd_def2tzvp_liq')\n",
    "# subfolders"
   ]
  },
  {
   "cell_type": "code",
   "execution_count": 7,
   "metadata": {},
   "outputs": [
    {
     "name": "stdout",
     "output_type": "stream",
     "text": [
      "time: 4.16 ms\n"
     ]
    }
   ],
   "source": [
    "index_to_coord = dict()\n",
    "# for f in os.listdir(os.path.join(cwd, sp_results_folder, subfolders[0])):\n",
    "for f in os.listdir(os.path.join(cwd, sp_results_folder)):\n",
    "    findex = int(f.split('_')[0])\n",
    "    d1 = tuple([int(x) for x in re.search('d1(.*)deg1', f).group(1).split('_') if x.isnumeric()])\n",
    "    deg1 = int(tuple([x for x in re.search('deg1(.*)n', f).group(1).split('_') if x.isnumeric()])[0])\n",
    "    d2 = tuple([int(x) for x in re.search('d2(.*)deg2', f).group(1).split('_') if x.isnumeric()])\n",
    "    deg2 = int(tuple([x for x in re.search('deg2(.*)log', f).group(1).split('_') if x.isnumeric()])[0])\n",
    "    \n",
    "    try:\n",
    "        index_to_coord[(d1, deg1, d2, deg2, findex)] = get_geometry(os.path.join(cwd, sp_results_folder, subfolders[0], f))\n",
    "    except:\n",
    "        continue"
   ]
  },
  {
   "cell_type": "code",
   "execution_count": 8,
   "metadata": {},
   "outputs": [
    {
     "name": "stdout",
     "output_type": "stream",
     "text": [
      "time: 924 µs\n"
     ]
    }
   ],
   "source": [
    "# index_to_coord"
   ]
  },
  {
   "cell_type": "code",
   "execution_count": 9,
   "metadata": {},
   "outputs": [
    {
     "name": "stdout",
     "output_type": "stream",
     "text": [
      "time: 2.12 ms\n"
     ]
    }
   ],
   "source": [
    "all_energy_dict = dict()\n",
    "for k in index_to_coord.keys():\n",
    "    all_energy_dict[k] = dict()"
   ]
  },
  {
   "cell_type": "code",
   "execution_count": 10,
   "metadata": {},
   "outputs": [
    {
     "name": "stdout",
     "output_type": "stream",
     "text": [
      "time: 2.12 ms\n"
     ]
    }
   ],
   "source": [
    "# all_energy_dict"
   ]
  },
  {
   "cell_type": "code",
   "execution_count": 11,
   "metadata": {},
   "outputs": [
    {
     "name": "stdout",
     "output_type": "stream",
     "text": [
      "time: 72.1 ms\n"
     ]
    }
   ],
   "source": [
    "for f in os.listdir(os.path.join(cwd, sp_results_folder)):\n",
    "    findex = int(f.split('_')[0])\n",
    "    d1 = tuple([int(x) for x in re.search('d1(.*)deg1', f).group(1).split('_') if x.isnumeric()])\n",
    "    deg1 = int(tuple([x for x in re.search('deg1(.*)n', f).group(1).split('_') if x.isnumeric()])[0])\n",
    "    d2 = tuple([int(x) for x in re.search('d2(.*)deg2', f).group(1).split('_') if x.isnumeric()])\n",
    "    deg2 = int(tuple([x for x in re.search('deg2(.*)log', f).group(1).split('_') if x.isnumeric()])[0])\n",
    "\n",
    "    try:\n",
    "        all_energy_dict[(d1, deg1, d2, deg2, findex)] = get_energy(os.path.join(cwd, sp_results_folder, f))['scf']\n",
    "    except:\n",
    "        continue"
   ]
  },
  {
   "cell_type": "code",
   "execution_count": 12,
   "metadata": {},
   "outputs": [
    {
     "name": "stdout",
     "output_type": "stream",
     "text": [
      "time: 265 µs\n"
     ]
    }
   ],
   "source": [
    "# for d in subfolders:\n",
    "#     for f in os.listdir(os.path.join(cwd, sp_results_folder, d)):\n",
    "#         findex = int(f.split('_')[0])\n",
    "#         d1 = tuple([int(x) for x in re.search('d1(.*)deg1', f).group(1).split('_') if x.isnumeric()])\n",
    "#         deg1 = int(tuple([x for x in re.search('deg1(.*)n', f).group(1).split('_') if x.isnumeric()])[0])\n",
    "#         d2 = tuple([int(x) for x in re.search('d2(.*)deg2', f).group(1).split('_') if x.isnumeric()])\n",
    "#         deg2 = int(tuple([x for x in re.search('deg2(.*)log', f).group(1).split('_') if x.isnumeric()])[0])\n",
    "\n",
    "#         try:\n",
    "#             all_energy_dict[(d1, deg1, d2, deg2, findex)][d] = get_energy(os.path.join(cwd, sp_results_folder, d, f))['scf']\n",
    "#         except:\n",
    "#             continue"
   ]
  },
  {
   "cell_type": "code",
   "execution_count": 13,
   "metadata": {},
   "outputs": [
    {
     "data": {
      "text/plain": [
       "{((3, 1, 2, 4), 294, (1, 3, 10, 18), 46, 78): -457.395312107,\n",
       " ((3, 1, 2, 4), 284, (2, 4, 11, 21), 303, 55): -457.395976413,\n",
       " ((1, 2, 4, 11), 91, (2, 4, 11, 21), 82, 70): -457.399797001,\n",
       " ((2, 1, 7, 14), 243, (1, 2, 4, 11), 308, 2): -457.390507673,\n",
       " ((1, 3, 10, 18), 48, (2, 4, 11, 21), 299, 82): -457.394509827,\n",
       " ((2, 1, 7, 14), 369, (1, 2, 4, 11), 179, 91): -457.400987843,\n",
       " ((2, 1, 3, 9), 75, (2, 1, 7, 14), 355, 51): -457.391721305,\n",
       " ((1, 3, 9, 15), 182, (1, 3, 10, 18), 340, 72): -457.40196993,\n",
       " ((1, 2, 4, 11), 181, (1, 3, 10, 18), 338, 41): -457.392658469,\n",
       " ((1, 3, 9, 15), 0, (1, 3, 10, 18), 56, 95): -457.396452294,\n",
       " ((3, 1, 2, 4), 293, (2, 1, 7, 14), 44, 37): -457.393067666,\n",
       " ((2, 1, 3, 9), 335, (2, 4, 11, 21), 179, 76): -457.402194615,\n",
       " ((1, 2, 4, 11), 0, (2, 4, 11, 21), 0, 3): -457.400700633,\n",
       " ((2, 1, 3, 9), 302, (2, 1, 7, 14), 109, 28): -457.403534233,\n",
       " ((1, 3, 10, 18), 47, (2, 4, 11, 21), 82, 29): -457.396267037,\n",
       " ((1, 2, 4, 11), 124, (2, 4, 11, 21), 294, 113): -457.400393795,\n",
       " ((2, 1, 7, 14), 362, (1, 3, 9, 15), 314, 57): -457.396451908,\n",
       " ((2, 1, 7, 14), 165, (1, 2, 4, 11), 62, 14): -457.402239388,\n",
       " ((2, 1, 7, 14), 219, (1, 3, 9, 15), 82, 15): -457.394614133,\n",
       " ((2, 1, 3, 9), 332, (1, 2, 4, 11), 18, 93): -457.399045407,\n",
       " ((3, 1, 2, 4), 183, (2, 1, 7, 14), 165, 26): -457.401946719,\n",
       " ((2, 1, 3, 9), 91, (1, 3, 10, 18), 347, 97): -457.396455595,\n",
       " ((1, 3, 10, 18), 96, (2, 4, 11, 21), 299, 34): -457.400807967,\n",
       " ((2, 1, 3, 9), 173, (2, 1, 7, 14), 174, 63): -457.396470304,\n",
       " ((3, 1, 2, 4), 291, (1, 3, 10, 18), 67, 98): -457.386843503,\n",
       " ((3, 1, 2, 4), 285, (1, 2, 4, 11), 173, 84): -457.396446269,\n",
       " ((2, 1, 3, 9), 23, (2, 1, 7, 14), 286, 99): -457.39051883,\n",
       " ((2, 1, 3, 9), 242, (2, 1, 7, 14), 268, 77): -457.390521438,\n",
       " ((1, 3, 9, 15), 94, (1, 3, 10, 18), 39, 115): -457.395179163,\n",
       " ((1, 3, 9, 15), 334, (1, 3, 10, 18), 38, 81): -457.395212023,\n",
       " ((1, 3, 10, 18), 97, (2, 4, 11, 21), 203, 64): -457.402642411,\n",
       " ((2, 1, 3, 9), 334, (1, 2, 4, 11), 187, 118): -457.399888924,\n",
       " ((3, 1, 2, 4), 287, (1, 3, 10, 18), 161, 101): -457.386827826,\n",
       " ((1, 2, 4, 11), 89, (1, 3, 9, 15), 283, 71): -457.399802108,\n",
       " ((1, 3, 10, 18), 333, (2, 4, 11, 21), 299, 33): -457.400797865,\n",
       " ((2, 1, 7, 14), 86, (1, 3, 10, 18), 48, 92): -457.402085981,\n",
       " ((2, 1, 3, 9), 345, (2, 1, 7, 14), 93, 106): -457.395129475,\n",
       " ((3, 1, 2, 4), 291, (1, 3, 9, 15), 0, 75): -457.3952941,\n",
       " ((2, 1, 3, 9), 75, (2, 4, 11, 21), 310, 36): -457.388954515,\n",
       " ((1, 3, 9, 15), 0, (1, 3, 10, 18), 334, 86): -457.395122207,\n",
       " ((3, 1, 2, 4), 184, (1, 3, 10, 18), 46, 45): -457.402080678,\n",
       " ((2, 1, 3, 9), 367, (2, 1, 7, 14), 300, 53): -457.394698979,\n",
       " ((2, 1, 3, 9), 91, (1, 3, 9, 15), 293, 116): -457.390591878,\n",
       " ((2, 1, 3, 9), 0, (1, 3, 9, 15), 295, 117): -457.394717769,\n",
       " ((3, 1, 2, 4), 166, (2, 1, 3, 9), 91, 20): -457.401973649,\n",
       " ((2, 1, 3, 9), 334, (1, 3, 10, 18), 182, 6): -457.400885008,\n",
       " ((2, 1, 7, 14), 311, (1, 3, 10, 18), 243, 50): -457.39061871,\n",
       " ((2, 1, 7, 14), 219, (1, 3, 10, 18), 0, 40): -457.403512766,\n",
       " ((2, 1, 7, 14), 133, (1, 3, 10, 18), 37, 5): -457.395420371,\n",
       " ((1, 3, 9, 15), 213, (1, 3, 10, 18), 38, 103): -457.394994403,\n",
       " ((1, 3, 10, 18), 0, (2, 4, 11, 21), 299, 111): -457.400806581,\n",
       " ((1, 3, 10, 18), 190, (2, 4, 11, 21), 205, 4): -457.402639681,\n",
       " ((1, 3, 10, 18), 335, (2, 4, 11, 21), 83, 110): -457.395008321,\n",
       " ((1, 2, 4, 11), 89, (1, 3, 9, 15), 359, 62): -457.399806984,\n",
       " ((2, 1, 3, 9), 334, (1, 3, 9, 15), 297, 49): -457.400937244,\n",
       " ((3, 1, 2, 4), 66, (2, 1, 7, 14), 349, 44): -457.402213568,\n",
       " ((3, 1, 2, 4), 293, (1, 3, 9, 15), 186, 87): -457.395362391,\n",
       " ((2, 1, 7, 14), 92, (1, 3, 9, 15), 360, 8): -457.402080336,\n",
       " ((2, 1, 3, 9), 0, (1, 3, 10, 18), 0, 80): -457.394714481,\n",
       " ((2, 1, 3, 9), 86, (2, 1, 7, 14), 241, 25): -457.400915992,\n",
       " ((2, 1, 3, 9), 0, (2, 1, 7, 14), 349, 30): -457.395152395,\n",
       " ((2, 1, 3, 9), 91, (1, 3, 9, 15), 52, 83): -457.390603952,\n",
       " ((2, 1, 7, 14), 354, (1, 2, 4, 11), 74, 13): -457.39895784,\n",
       " ((2, 1, 7, 14), 165, (1, 3, 10, 18), 95, 96): -457.403538515,\n",
       " ((1, 2, 4, 11), 187, (1, 3, 10, 18), 56, 119): -457.393174478,\n",
       " ((2, 1, 7, 14), 227, (1, 2, 4, 11), 109, 35): -457.390489574,\n",
       " ((3, 1, 2, 4), 171, (1, 3, 10, 18), 86, 74): -457.402065648,\n",
       " ((2, 1, 3, 9), 75, (1, 2, 4, 11), 177, 114): -457.390637466,\n",
       " ((2, 1, 3, 9), 236, (2, 1, 7, 14), 311, 22): -457.390532956,\n",
       " ((1, 3, 9, 15), 304, (1, 3, 10, 18), 339, 52): -457.395118557,\n",
       " ((2, 1, 3, 9), 345, (2, 1, 7, 14), 109, 11): -457.390634668,\n",
       " ((2, 1, 3, 9), 329, (1, 3, 10, 18), 24, 68): -457.400886654,\n",
       " ((1, 2, 4, 11), 309, (1, 3, 10, 18), 335, 59): -457.401966098,\n",
       " ((2, 1, 3, 9), 84, (2, 1, 7, 14), 219, 105): -457.401959519,\n",
       " ((2, 1, 7, 14), 219, (1, 3, 9, 15), 204, 67): -457.401732919,\n",
       " ((2, 1, 3, 9), 75, (2, 1, 7, 14), 182, 79): -457.395394316,\n",
       " ((1, 3, 10, 18), 0, (2, 4, 11, 21), 204, 17): -457.394228363,\n",
       " ((1, 2, 4, 11), 216, (2, 4, 11, 21), 216, 65): -457.400969886,\n",
       " ((1, 2, 4, 11), 182, (1, 3, 9, 15), 283, 107): -457.400967923,\n",
       " ((2, 1, 3, 9), 75, (1, 2, 4, 11), 71, 43): -457.394641733,\n",
       " ((2, 1, 7, 14), 165, (1, 3, 10, 18), 0, 46): -457.403520441,\n",
       " ((2, 1, 3, 9), 146, (1, 3, 10, 18), 48, 102): -457.396337665,\n",
       " ((2, 1, 3, 9), 0, (1, 3, 10, 18), 42, 61): -457.394714612,\n",
       " ((2, 1, 7, 14), 219, (1, 2, 4, 11), 8, 104): -457.394313711,\n",
       " ((2, 1, 3, 9), 334, (2, 4, 11, 21), 299, 12): -457.399953607,\n",
       " ((2, 1, 7, 14), 286, (1, 2, 4, 11), 0, 108): -457.395092295,\n",
       " ((2, 1, 7, 14), 219, (1, 3, 9, 15), 324, 73): -457.398262073,\n",
       " ((2, 1, 3, 9), 332, (1, 3, 10, 18), 62, 60): -457.400884282,\n",
       " ((1, 2, 4, 11), 75, (2, 4, 11, 21), 172, 89): -457.400242408,\n",
       " ((1, 2, 4, 11), 85, (1, 3, 10, 18), 52, 10): -457.389505888,\n",
       " ((2, 1, 3, 9), 75, (2, 4, 11, 21), 32, 23): -457.389148013,\n",
       " ((2, 1, 3, 9), 23, (1, 2, 4, 11), 76, 88): -457.395144844,\n",
       " ((2, 1, 3, 9), 0, (1, 3, 10, 18), 86, 69): -457.394707603,\n",
       " ((2, 1, 3, 9), 0, (1, 3, 10, 18), 238, 24): -457.394713639,\n",
       " ((2, 1, 3, 9), 208, (1, 3, 10, 18), 39, 16): -457.395001459,\n",
       " ((2, 1, 7, 14), 95, (1, 3, 10, 18), 0, 1): -457.39513567,\n",
       " ((2, 1, 3, 9), 61, (2, 1, 7, 14), 251, 94): -457.390572381,\n",
       " ((2, 1, 3, 9), 334, (1, 3, 9, 15), 56, 47): -457.400889334,\n",
       " ((1, 2, 4, 11), 189, (2, 4, 11, 21), 72, 38): -457.400981717,\n",
       " ((1, 2, 4, 11), 182, (1, 3, 9, 15), 366, 56): -457.401051639,\n",
       " ((3, 1, 2, 4), 277, (1, 3, 10, 18), 223, 100): -457.395384877,\n",
       " ((2, 1, 3, 9), 334, (1, 3, 10, 18), 102, 19): -457.400939045,\n",
       " ((1, 3, 9, 15), 63, (1, 3, 10, 18), 339, 54): -457.395270438,\n",
       " ((2, 1, 3, 9), 334, (1, 3, 10, 18), 341, 7): -457.400893295,\n",
       " ((2, 1, 7, 14), 281, (1, 2, 4, 11), 422, 27): -457.392433749,\n",
       " ((2, 1, 7, 14), 3567, (1, 3, 10, 18), 4, 32): -457.417238514,\n",
       " ((3, 1, 2, 4), 177, (1, 3, 10, 18), 337, 58): -457.395261127,\n",
       " ((1, 2, 4, 11), 179, (1, 3, 10, 18), 37, 109): -457.392719672,\n",
       " ((1, 2, 4, 11), 205, (2, 4, 11, 21), 243, 112): -457.40079292,\n",
       " ((2, 1, 7, 14), 362, (1, 3, 9, 15), 194, 66): -457.396365012,\n",
       " ((2, 1, 3, 9), 33, (2, 4, 11, 21), 264, 31): -457.393914854,\n",
       " ((2, 1, 3, 9), 91, (1, 3, 9, 15), 173, 9): -457.390590443,\n",
       " ((3, 1, 2, 4), 102, (2, 1, 3, 9), 319, 42): -457.395380079,\n",
       " ((2, 1, 3, 9), 190, (1, 3, 9, 15), 283, 90): -457.40197659,\n",
       " ((3, 1, 2, 4), 281, (1, 2, 4, 11), 79, 85): -457.394560619,\n",
       " ((2, 1, 3, 9), 30, (1, 2, 4, 11), 178, 21): -457.394928567,\n",
       " ((3, 1, 2, 4), 296, (1, 3, 10, 18), 0, 18): -457.39536958,\n",
       " ((1, 3, 10, 18), 48, (2, 4, 11, 21), 210, 48): -457.39424947,\n",
       " ((1, 2, 4, 11), 90, (1, 3, 10, 18), 335, 39): -457.387758317}"
      ]
     },
     "execution_count": 13,
     "metadata": {},
     "output_type": "execute_result"
    },
    {
     "name": "stdout",
     "output_type": "stream",
     "text": [
      "time: 31.2 ms\n"
     ]
    }
   ],
   "source": [
    "all_energy_dict"
   ]
  },
  {
   "cell_type": "code",
   "execution_count": 14,
   "metadata": {},
   "outputs": [
    {
     "name": "stdout",
     "output_type": "stream",
     "text": [
      "time: 2.2 ms\n"
     ]
    }
   ],
   "source": [
    "df = pd.DataFrame.from_dict(all_energy_dict, orient='index')"
   ]
  },
  {
   "cell_type": "code",
   "execution_count": 15,
   "metadata": {
    "scrolled": false
   },
   "outputs": [
    {
     "data": {
      "text/html": [
       "<div>\n",
       "<style scoped>\n",
       "    .dataframe tbody tr th:only-of-type {\n",
       "        vertical-align: middle;\n",
       "    }\n",
       "\n",
       "    .dataframe tbody tr th {\n",
       "        vertical-align: top;\n",
       "    }\n",
       "\n",
       "    .dataframe thead th {\n",
       "        text-align: right;\n",
       "    }\n",
       "</style>\n",
       "<table border=\"1\" class=\"dataframe\">\n",
       "  <thead>\n",
       "    <tr style=\"text-align: right;\">\n",
       "      <th></th>\n",
       "      <th>0</th>\n",
       "    </tr>\n",
       "  </thead>\n",
       "  <tbody>\n",
       "    <tr>\n",
       "      <th>((3, 1, 2, 4), 294, (1, 3, 10, 18), 46, 78)</th>\n",
       "      <td>-457.395312</td>\n",
       "    </tr>\n",
       "    <tr>\n",
       "      <th>((3, 1, 2, 4), 284, (2, 4, 11, 21), 303, 55)</th>\n",
       "      <td>-457.395976</td>\n",
       "    </tr>\n",
       "    <tr>\n",
       "      <th>((1, 2, 4, 11), 91, (2, 4, 11, 21), 82, 70)</th>\n",
       "      <td>-457.399797</td>\n",
       "    </tr>\n",
       "    <tr>\n",
       "      <th>((2, 1, 7, 14), 243, (1, 2, 4, 11), 308, 2)</th>\n",
       "      <td>-457.390508</td>\n",
       "    </tr>\n",
       "    <tr>\n",
       "      <th>((1, 3, 10, 18), 48, (2, 4, 11, 21), 299, 82)</th>\n",
       "      <td>-457.394510</td>\n",
       "    </tr>\n",
       "    <tr>\n",
       "      <th>...</th>\n",
       "      <td>...</td>\n",
       "    </tr>\n",
       "    <tr>\n",
       "      <th>((3, 1, 2, 4), 281, (1, 2, 4, 11), 79, 85)</th>\n",
       "      <td>-457.394561</td>\n",
       "    </tr>\n",
       "    <tr>\n",
       "      <th>((2, 1, 3, 9), 30, (1, 2, 4, 11), 178, 21)</th>\n",
       "      <td>-457.394929</td>\n",
       "    </tr>\n",
       "    <tr>\n",
       "      <th>((3, 1, 2, 4), 296, (1, 3, 10, 18), 0, 18)</th>\n",
       "      <td>-457.395370</td>\n",
       "    </tr>\n",
       "    <tr>\n",
       "      <th>((1, 3, 10, 18), 48, (2, 4, 11, 21), 210, 48)</th>\n",
       "      <td>-457.394249</td>\n",
       "    </tr>\n",
       "    <tr>\n",
       "      <th>((1, 2, 4, 11), 90, (1, 3, 10, 18), 335, 39)</th>\n",
       "      <td>-457.387758</td>\n",
       "    </tr>\n",
       "  </tbody>\n",
       "</table>\n",
       "<p>119 rows × 1 columns</p>\n",
       "</div>"
      ],
      "text/plain": [
       "                                                        0\n",
       "((3, 1, 2, 4), 294, (1, 3, 10, 18), 46, 78)   -457.395312\n",
       "((3, 1, 2, 4), 284, (2, 4, 11, 21), 303, 55)  -457.395976\n",
       "((1, 2, 4, 11), 91, (2, 4, 11, 21), 82, 70)   -457.399797\n",
       "((2, 1, 7, 14), 243, (1, 2, 4, 11), 308, 2)   -457.390508\n",
       "((1, 3, 10, 18), 48, (2, 4, 11, 21), 299, 82) -457.394510\n",
       "...                                                   ...\n",
       "((3, 1, 2, 4), 281, (1, 2, 4, 11), 79, 85)    -457.394561\n",
       "((2, 1, 3, 9), 30, (1, 2, 4, 11), 178, 21)    -457.394929\n",
       "((3, 1, 2, 4), 296, (1, 3, 10, 18), 0, 18)    -457.395370\n",
       "((1, 3, 10, 18), 48, (2, 4, 11, 21), 210, 48) -457.394249\n",
       "((1, 2, 4, 11), 90, (1, 3, 10, 18), 335, 39)  -457.387758\n",
       "\n",
       "[119 rows x 1 columns]"
      ]
     },
     "execution_count": 15,
     "metadata": {},
     "output_type": "execute_result"
    },
    {
     "name": "stdout",
     "output_type": "stream",
     "text": [
      "time: 14.5 ms\n"
     ]
    }
   ],
   "source": [
    "df"
   ]
  },
  {
   "cell_type": "code",
   "execution_count": 16,
   "metadata": {},
   "outputs": [
    {
     "name": "stdout",
     "output_type": "stream",
     "text": [
      "time: 145 ms\n"
     ]
    }
   ],
   "source": [
    "df.to_excel('imipramine_4_oo_dlpno_sp.xlsx')"
   ]
  },
  {
   "cell_type": "code",
   "execution_count": null,
   "metadata": {},
   "outputs": [],
   "source": []
  }
 ],
 "metadata": {
  "kernelspec": {
   "display_name": "Python 3",
   "language": "python",
   "name": "python3"
  },
  "language_info": {
   "codemirror_mode": {
    "name": "ipython",
    "version": 3
   },
   "file_extension": ".py",
   "mimetype": "text/x-python",
   "name": "python",
   "nbconvert_exporter": "python",
   "pygments_lexer": "ipython3",
   "version": "3.7.7"
  }
 },
 "nbformat": 4,
 "nbformat_minor": 4
}
