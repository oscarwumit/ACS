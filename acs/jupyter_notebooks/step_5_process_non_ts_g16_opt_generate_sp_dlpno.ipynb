{
 "cells": [
  {
   "cell_type": "code",
   "execution_count": 1,
   "metadata": {},
   "outputs": [
    {
     "data": {
      "text/html": [
       "<style>.container { width:100% !important; }</style>"
      ],
      "text/plain": [
       "<IPython.core.display.HTML object>"
      ]
     },
     "metadata": {},
     "output_type": "display_data"
    }
   ],
   "source": [
    "import numpy as np\n",
    "import pandas as pd\n",
    "import seaborn as sns\n",
    "\n",
    "%load_ext autotime\n",
    "import os\n",
    "import shutil\n",
    "import yaml\n",
    "import matplotlib.pyplot as plt\n",
    "from scipy import interpolate\n",
    "from scipy.optimize import minimize\n",
    "from matplotlib.colors import ListedColormap\n",
    "from matplotlib.colors import to_hex\n",
    "from IPython.core.display import display, HTML\n",
    "display(HTML(\"<style>.container { width:100% !important; }</style>\"))\n",
    "import scipy.ndimage.filters as filters\n",
    "import scipy.ndimage.morphology as morphology\n",
    "\n",
    "from arc.species.species import ARCSpecies\n",
    "from arc.species.converter import modify_coords, xyz_to_xyz_file_format, cluster_confs_by_rmsd, compare_confs\n",
    "from arc.plotter import show_sticks\n",
    "from arc.common import key_by_val\n",
    "from arc.parser import parse_e_elect, parse_geometry, parse_frequencies\n",
    "import rmgpy.constants as constants \n",
    "from arc.exceptions import ParserError\n",
    "import re"
   ]
  },
  {
   "cell_type": "code",
   "execution_count": 2,
   "metadata": {},
   "outputs": [
    {
     "name": "stdout",
     "output_type": "stream",
     "text": [
      "/home/oscarwu/Dropbox (MIT)/Scripts/TS_conf_search\n",
      "time: 636 µs\n"
     ]
    }
   ],
   "source": [
    "cwd = os.getcwd()\n",
    "print(cwd)"
   ]
  },
  {
   "cell_type": "code",
   "execution_count": 3,
   "metadata": {},
   "outputs": [
    {
     "name": "stdout",
     "output_type": "stream",
     "text": [
      "time: 4.72 ms\n"
     ]
    }
   ],
   "source": [
    "def process_gaussian_opt_freq_output(logfile):\n",
    "    if not check_gaussian_normal_termination(logfile):\n",
    "        raise ParserError('Gaussian error termination.')\n",
    "    info = dict()\n",
    "    info['freq'] = get_gaussian_freq(logfile, checkneg=True, ts=False)\n",
    "    info['xyz'] = get_gaussian_geometry(logfile, plot=False)\n",
    "    info['energy'] = get_gaussian_energy(logfile)\n",
    "    return info"
   ]
  },
  {
   "cell_type": "code",
   "execution_count": 4,
   "metadata": {},
   "outputs": [
    {
     "name": "stdout",
     "output_type": "stream",
     "text": [
      "time: 2.33 ms\n"
     ]
    }
   ],
   "source": [
    "def get_gaussian_freq(logfile, checkneg=True, ts=True):\n",
    "    freq = parse_frequencies(logfile, software='gaussian')\n",
    "    neg_freq = tuple([float(x) for x in freq if x < 0])\n",
    "    if checkneg:\n",
    "        if ts:\n",
    "            if len(neg_freq) == 0:\n",
    "                raise ParserError('Did not find any negative frequencies.')\n",
    "            elif len(neg_freq) > 1:\n",
    "                raise ParserError(f'Find more than one negative frequencies: {neg_freq}')\n",
    "        else:\n",
    "            if len(neg_freq):\n",
    "                raise ParserError(f'Find negative frequencies for non-TS species: {neg_freq}')\n",
    "    return (freq, neg_freq)"
   ]
  },
  {
   "cell_type": "code",
   "execution_count": 5,
   "metadata": {},
   "outputs": [
    {
     "name": "stdout",
     "output_type": "stream",
     "text": [
      "time: 1.52 ms\n"
     ]
    }
   ],
   "source": [
    "def check_gaussian_normal_termination(logfile):\n",
    "    with open(logfile, 'r') as f:\n",
    "        lines = f.readlines()\n",
    "        forward_lines = tuple(lines)\n",
    "    for line in forward_lines[-1:-20:-1]:\n",
    "        if 'Normal termination' in line:\n",
    "            return True\n",
    "    else:\n",
    "        return False"
   ]
  },
  {
   "cell_type": "code",
   "execution_count": 6,
   "metadata": {},
   "outputs": [
    {
     "name": "stdout",
     "output_type": "stream",
     "text": [
      "time: 2.77 ms\n"
     ]
    }
   ],
   "source": [
    "def get_gaussian_energy(logfile):\n",
    "    energy_dict = dict()\n",
    "    e_j_mol = parse_e_elect(logfile)\n",
    "    energy_dict['J/mol'] = e_j_mol\n",
    "    e_kj_mol = e_j_mol / 1000\n",
    "    energy_dict['kJ/mol'] = e_kj_mol\n",
    "    e_kcal_mol = e_j_mol / 4184\n",
    "    energy_dict['kcal/mol'] = e_kcal_mol\n",
    "    e_scf = round(e_j_mol/(constants.E_h * constants.Na / 1000), 9)\n",
    "    energy_dict['scf'] = e_scf\n",
    "    return energy_dict"
   ]
  },
  {
   "cell_type": "code",
   "execution_count": 7,
   "metadata": {},
   "outputs": [
    {
     "name": "stdout",
     "output_type": "stream",
     "text": [
      "time: 1.01 ms\n"
     ]
    }
   ],
   "source": [
    "def get_gaussian_geometry(logfile, plot=False):\n",
    "    xyz = parse_geometry(logfile)\n",
    "    if plot:\n",
    "        show_sticks(xyz)\n",
    "    return xyz"
   ]
  },
  {
   "cell_type": "code",
   "execution_count": 8,
   "metadata": {},
   "outputs": [
    {
     "name": "stdout",
     "output_type": "stream",
     "text": [
      "time: 1.13 ms\n"
     ]
    }
   ],
   "source": [
    "ts_name = 'imipramine_4_oo'\n",
    "g16_opt_output_dir = 'imipramine_4_oo_g16_results'\n",
    "g16_opt_output_dir_path = os.path.join(cwd, g16_opt_output_dir)"
   ]
  },
  {
   "cell_type": "code",
   "execution_count": 9,
   "metadata": {},
   "outputs": [
    {
     "name": "stdout",
     "output_type": "stream",
     "text": [
      "time: 11.2 s\n"
     ]
    }
   ],
   "source": [
    "all_converged_ts = dict()\n",
    "for f in os.listdir(g16_opt_output_dir_path):\n",
    "    findex = int(f.split('_')[0])\n",
    "    d1 = tuple([int(x) for x in re.search('d1(.*)deg1', f).group(1).split('_') if x.isnumeric()])\n",
    "    deg1 = int(tuple([x for x in re.search('deg1(.*)n', f).group(1).split('_') if x.isnumeric()])[0])\n",
    "    d2 = tuple([int(x) for x in re.search('d2(.*)deg2', f).group(1).split('_') if x.isnumeric()])\n",
    "    deg2 = int(tuple([x for x in re.search('deg2(.*)g16', f).group(1).split('_') if x.isnumeric()])[0])\n",
    "    \n",
    "    try:\n",
    "        all_converged_ts[(d1, deg1, d2, deg2, findex)] = process_gaussian_opt_freq_output(os.path.join(g16_opt_output_dir_path, f))\n",
    "    except:\n",
    "        continue"
   ]
  },
  {
   "cell_type": "code",
   "execution_count": 10,
   "metadata": {},
   "outputs": [
    {
     "data": {
      "text/plain": [
       "222"
      ]
     },
     "execution_count": 10,
     "metadata": {},
     "output_type": "execute_result"
    },
    {
     "name": "stdout",
     "output_type": "stream",
     "text": [
      "time: 3.79 ms\n"
     ]
    }
   ],
   "source": [
    "len(all_converged_ts.keys())"
   ]
  },
  {
   "cell_type": "code",
   "execution_count": 11,
   "metadata": {},
   "outputs": [
    {
     "name": "stdout",
     "output_type": "stream",
     "text": [
      "time: 4.28 ms\n"
     ]
    }
   ],
   "source": [
    "all_converged_ts_xyz_dict = dict()\n",
    "for k in all_converged_ts.keys():\n",
    "    all_converged_ts_xyz_dict[k] = all_converged_ts[k]['xyz']"
   ]
  },
  {
   "cell_type": "code",
   "execution_count": 12,
   "metadata": {},
   "outputs": [
    {
     "name": "stdout",
     "output_type": "stream",
     "text": [
      "time: 8.24 s\n"
     ]
    }
   ],
   "source": [
    "all_converged_ts_xyz_distinct_tuple = cluster_confs_by_rmsd(tuple(all_converged_ts_xyz_dict.values()))"
   ]
  },
  {
   "cell_type": "code",
   "execution_count": 13,
   "metadata": {},
   "outputs": [
    {
     "data": {
      "text/plain": [
       "119"
      ]
     },
     "execution_count": 13,
     "metadata": {},
     "output_type": "execute_result"
    },
    {
     "name": "stdout",
     "output_type": "stream",
     "text": [
      "time: 1.59 ms\n"
     ]
    }
   ],
   "source": [
    "len(all_converged_ts_xyz_distinct_tuple)"
   ]
  },
  {
   "cell_type": "code",
   "execution_count": 14,
   "metadata": {},
   "outputs": [
    {
     "name": "stdout",
     "output_type": "stream",
     "text": [
      "time: 10.7 ms\n"
     ]
    }
   ],
   "source": [
    "all_converged_ts_energy_distinct_dict = dict()\n",
    "for distinct_xyz in all_converged_ts_xyz_distinct_tuple:\n",
    "    k = key_by_val(all_converged_ts_xyz_dict, distinct_xyz)\n",
    "    all_converged_ts_energy_distinct_dict[k] = all_converged_ts[k]['energy']['scf']"
   ]
  },
  {
   "cell_type": "code",
   "execution_count": 15,
   "metadata": {},
   "outputs": [
    {
     "data": {
      "text/plain": [
       "119"
      ]
     },
     "execution_count": 15,
     "metadata": {},
     "output_type": "execute_result"
    },
    {
     "name": "stdout",
     "output_type": "stream",
     "text": [
      "time: 5.41 ms\n"
     ]
    }
   ],
   "source": [
    "len(all_converged_ts_energy_distinct_dict.values())"
   ]
  },
  {
   "cell_type": "code",
   "execution_count": 16,
   "metadata": {},
   "outputs": [
    {
     "name": "stdout",
     "output_type": "stream",
     "text": [
      "time: 2.15 ms\n"
     ]
    }
   ],
   "source": [
    "df = pd.DataFrame.from_dict(all_converged_ts_energy_distinct_dict, orient='index')"
   ]
  },
  {
   "cell_type": "code",
   "execution_count": 17,
   "metadata": {},
   "outputs": [
    {
     "data": {
      "text/html": [
       "<div>\n",
       "<style scoped>\n",
       "    .dataframe tbody tr th:only-of-type {\n",
       "        vertical-align: middle;\n",
       "    }\n",
       "\n",
       "    .dataframe tbody tr th {\n",
       "        vertical-align: top;\n",
       "    }\n",
       "\n",
       "    .dataframe thead th {\n",
       "        text-align: right;\n",
       "    }\n",
       "</style>\n",
       "<table border=\"1\" class=\"dataframe\">\n",
       "  <thead>\n",
       "    <tr style=\"text-align: right;\">\n",
       "      <th></th>\n",
       "      <th>0</th>\n",
       "    </tr>\n",
       "  </thead>\n",
       "  <tbody>\n",
       "    <tr>\n",
       "      <th>((2, 1, 7, 14), 95, (1, 3, 10, 18), 0, 110)</th>\n",
       "      <td>-457.683053</td>\n",
       "    </tr>\n",
       "    <tr>\n",
       "      <th>((2, 1, 7, 14), 243, (1, 2, 4, 11), 308, 165)</th>\n",
       "      <td>-457.677178</td>\n",
       "    </tr>\n",
       "    <tr>\n",
       "      <th>((1, 2, 4, 11), 0, (2, 4, 11, 21), 0, 122)</th>\n",
       "      <td>-457.688089</td>\n",
       "    </tr>\n",
       "    <tr>\n",
       "      <th>((1, 3, 10, 18), 190, (2, 4, 11, 21), 205, 44)</th>\n",
       "      <td>-457.689016</td>\n",
       "    </tr>\n",
       "    <tr>\n",
       "      <th>((2, 1, 7, 14), 133, (1, 3, 10, 18), 37, 112)</th>\n",
       "      <td>-457.681780</td>\n",
       "    </tr>\n",
       "    <tr>\n",
       "      <th>...</th>\n",
       "      <td>...</td>\n",
       "    </tr>\n",
       "    <tr>\n",
       "      <th>((1, 3, 9, 15), 94, (1, 3, 10, 18), 39, 142)</th>\n",
       "      <td>-457.683053</td>\n",
       "    </tr>\n",
       "    <tr>\n",
       "      <th>((2, 1, 3, 9), 91, (1, 3, 9, 15), 293, 74)</th>\n",
       "      <td>-457.677306</td>\n",
       "    </tr>\n",
       "    <tr>\n",
       "      <th>((2, 1, 3, 9), 0, (1, 3, 9, 15), 295, 71)</th>\n",
       "      <td>-457.682037</td>\n",
       "    </tr>\n",
       "    <tr>\n",
       "      <th>((2, 1, 3, 9), 334, (1, 2, 4, 11), 187, 33)</th>\n",
       "      <td>-457.686111</td>\n",
       "    </tr>\n",
       "    <tr>\n",
       "      <th>((1, 2, 4, 11), 187, (1, 3, 10, 18), 56, 58)</th>\n",
       "      <td>-457.679906</td>\n",
       "    </tr>\n",
       "  </tbody>\n",
       "</table>\n",
       "<p>119 rows × 1 columns</p>\n",
       "</div>"
      ],
      "text/plain": [
       "                                                         0\n",
       "((2, 1, 7, 14), 95, (1, 3, 10, 18), 0, 110)    -457.683053\n",
       "((2, 1, 7, 14), 243, (1, 2, 4, 11), 308, 165)  -457.677178\n",
       "((1, 2, 4, 11), 0, (2, 4, 11, 21), 0, 122)     -457.688089\n",
       "((1, 3, 10, 18), 190, (2, 4, 11, 21), 205, 44) -457.689016\n",
       "((2, 1, 7, 14), 133, (1, 3, 10, 18), 37, 112)  -457.681780\n",
       "...                                                    ...\n",
       "((1, 3, 9, 15), 94, (1, 3, 10, 18), 39, 142)   -457.683053\n",
       "((2, 1, 3, 9), 91, (1, 3, 9, 15), 293, 74)     -457.677306\n",
       "((2, 1, 3, 9), 0, (1, 3, 9, 15), 295, 71)      -457.682037\n",
       "((2, 1, 3, 9), 334, (1, 2, 4, 11), 187, 33)    -457.686111\n",
       "((1, 2, 4, 11), 187, (1, 3, 10, 18), 56, 58)   -457.679906\n",
       "\n",
       "[119 rows x 1 columns]"
      ]
     },
     "execution_count": 17,
     "metadata": {},
     "output_type": "execute_result"
    },
    {
     "name": "stdout",
     "output_type": "stream",
     "text": [
      "time: 15.3 ms\n"
     ]
    }
   ],
   "source": [
    "df"
   ]
  },
  {
   "cell_type": "code",
   "execution_count": 18,
   "metadata": {},
   "outputs": [
    {
     "name": "stdout",
     "output_type": "stream",
     "text": [
      "time: 1.05 ms\n"
     ]
    }
   ],
   "source": [
    "# df.to_excel('imipramine_4_oo_wb97xd.xlsx')"
   ]
  },
  {
   "cell_type": "code",
   "execution_count": 19,
   "metadata": {},
   "outputs": [
    {
     "name": "stdout",
     "output_type": "stream",
     "text": [
      "time: 1.62 ms\n"
     ]
    }
   ],
   "source": [
    "apfd_liq_script = \"\"\"%chk={name}.chk\n",
    "%mem=300000mb\n",
    "%NProcShared=40\n",
    "\n",
    "#P integral=(grid=ultrafine, Acc2E=12) SCRF=(smd,Solvent=water) uapfd/6-311+g(2d,p) scf=xqc iop(2/9=2000) \n",
    "\n",
    "{name}\n",
    "\n",
    "0 2\n",
    "{xyz}\n",
    "\n",
    "\n",
    "\n",
    "\n",
    "\"\"\""
   ]
  },
  {
   "cell_type": "code",
   "execution_count": 20,
   "metadata": {},
   "outputs": [
    {
     "name": "stdout",
     "output_type": "stream",
     "text": [
      "time: 1.63 ms\n"
     ]
    }
   ],
   "source": [
    "# apfd_liq_script = \"\"\"%chk={name}.chk\n",
    "# %mem=300000mb\n",
    "# %NProcShared=40\n",
    "\n",
    "# #P SCRF=(smd,Solvent=water) uwb97xd def2svp iop(2/9=2000) scf=xqc\n",
    "\n",
    "# {name}\n",
    "\n",
    "# 0 2\n",
    "# {xyz}\n",
    "\n",
    "\n",
    "\n",
    "\n",
    "# \"\"\""
   ]
  },
  {
   "cell_type": "code",
   "execution_count": 21,
   "metadata": {},
   "outputs": [
    {
     "name": "stdout",
     "output_type": "stream",
     "text": [
      "time: 2.05 ms\n"
     ]
    }
   ],
   "source": [
    "apfd_gas_script = \"\"\"%chk={name}.chk\n",
    "%mem=300000mb\n",
    "%NProcShared=40\n",
    "\n",
    "#P integral=(grid=ultrafine, Acc2E=12) uapfd/6-311+g(2d,p) scf=xqc iop(2/9=2000)   \n",
    "\n",
    "{name}\n",
    "\n",
    "0 2\n",
    "{xyz}\n",
    "\n",
    "\n",
    "\n",
    "\n",
    "\"\"\""
   ]
  },
  {
   "cell_type": "code",
   "execution_count": 22,
   "metadata": {},
   "outputs": [
    {
     "name": "stdout",
     "output_type": "stream",
     "text": [
      "time: 3.79 ms\n"
     ]
    }
   ],
   "source": [
    "# apfd_gas_script = \"\"\"%chk={name}.chk\n",
    "# %mem=300000mb\n",
    "# %NProcShared=40\n",
    "\n",
    "# #P uwb97xd def2svp iop(2/9=2000) scf=xqc\n",
    "\n",
    "# {name}\n",
    "\n",
    "# 0 2\n",
    "# {xyz}\n",
    "\n",
    "\n",
    "\n",
    "\n",
    "# \"\"\""
   ]
  },
  {
   "cell_type": "code",
   "execution_count": 23,
   "metadata": {},
   "outputs": [
    {
     "name": "stdout",
     "output_type": "stream",
     "text": [
      "time: 1.23 ms\n"
     ]
    }
   ],
   "source": [
    "dlpno_script = \"\"\"!uHF dlpno-ccsd(t) def2-tzvp def2-tzvp/c  \n",
    "!NRSCF \n",
    "!sp \n",
    "\n",
    "%maxcore 6500\n",
    "%pal # job parallelization settings\n",
    "nprocs 20\n",
    "end\n",
    "%scf # recommended SCF settings \n",
    "NRMaxIt 400\n",
    "NRStart 0.00005\n",
    "MaxIter 500\n",
    "end\n",
    "\n",
    "\n",
    "* xyz 0 2\n",
    "{xyz}\n",
    "*\n",
    "\n",
    "\n",
    "\"\"\""
   ]
  },
  {
   "cell_type": "code",
   "execution_count": 24,
   "metadata": {},
   "outputs": [
    {
     "name": "stdout",
     "output_type": "stream",
     "text": [
      "time: 2.21 ms\n"
     ]
    }
   ],
   "source": [
    "# dlpno_script = \"\"\"!uHF wB97X-D3 def2-svp\n",
    "# !NRSCF \n",
    "# !sp \n",
    "\n",
    "# %CPCM SMD TRUE\n",
    "#       SMDSOLVENT \"WATER\"\n",
    "# END\n",
    "# %maxcore 7000\n",
    "# %pal # job parallelization settings\n",
    "# nprocs 40\n",
    "# end\n",
    "# %scf # recommended SCF settings \n",
    "# NRMaxIt 400\n",
    "# NRStart 0.00005\n",
    "# MaxIter 500\n",
    "# end\n",
    "\n",
    "\n",
    "# * xyz 0 2\n",
    "# {xyz}\n",
    "# *\n",
    "\n",
    "\n",
    "# \"\"\""
   ]
  },
  {
   "cell_type": "code",
   "execution_count": 25,
   "metadata": {},
   "outputs": [
    {
     "name": "stdout",
     "output_type": "stream",
     "text": [
      "time: 4.42 ms\n"
     ]
    }
   ],
   "source": [
    "save_folder = cwd + '/' + ts_name + '_sp_after_opt_inputs'\n",
    "if os.path.exists(save_folder):\n",
    "    shutil.rmtree(save_folder)\n",
    "os.mkdir(save_folder)"
   ]
  },
  {
   "cell_type": "code",
   "execution_count": 26,
   "metadata": {},
   "outputs": [
    {
     "name": "stdout",
     "output_type": "stream",
     "text": [
      "time: 49.5 ms\n"
     ]
    }
   ],
   "source": [
    "file_counter = 0\n",
    "save_batch_size = 100000\n",
    "batch_folder_counter = 1  \n",
    "\n",
    "for distinct_xyz in all_converged_ts_xyz_distinct_tuple:\n",
    "    \n",
    "    k = key_by_val(all_converged_ts_xyz_dict, distinct_xyz)\n",
    "    \n",
    "    indices_1 = k[0]\n",
    "    deg_1 = k[1]\n",
    "    \n",
    "    indices_2 = k[2]\n",
    "    deg_2 = k[3]\n",
    "    \n",
    "    if not file_counter % save_batch_size:\n",
    "        batch_foler = 'batch_' + str(batch_folder_counter) \n",
    "        if not os.path.exists(save_folder + '/' + batch_foler):\n",
    "            os.mkdir(save_folder + '/' + batch_foler)\n",
    "            \n",
    "            apfd_gas_dir_path = os.path.join(save_folder, batch_foler, 'apfd_gas')\n",
    "            apfd_liq_dir_path = os.path.join(save_folder, batch_foler, 'apfd_liq')\n",
    "#             dlpno_dir_path = os.path.join(save_folder, batch_foler, 'dlpno')\n",
    "\n",
    "            os.mkdir(apfd_gas_dir_path)\n",
    "            os.mkdir(apfd_liq_dir_path)\n",
    "#             os.mkdir(dlpno_dir_path)\n",
    "    \n",
    "            batch_folder_counter += 1\n",
    "\n",
    "    file_counter += 1\n",
    "\n",
    "    xyz_str = xyz_to_xyz_file_format(distinct_xyz)\n",
    "    xyz_str = '\\n'.join(xyz_str.split('\\n')[2:-1])\n",
    "\n",
    "    d1str = \"{0:.4g}\".format(deg_1)\n",
    "    d2str = \"{0:.4g}\".format(deg_2)\n",
    "\n",
    "    d1name = '_'.join([str(elem) for elem in indices_1])\n",
    "    d2name = '_'.join([str(elem) for elem in indices_2])\n",
    "    comb_name_list = ['d1', d1name, 'deg1', d1str, 'n', 'd2', d2name, 'deg2', d2str]\n",
    "    comb_name = '_'.join(comb_name_list)\n",
    "    \n",
    "    file_base_name = str(file_counter) + '_' + ts_name + '_' + comb_name\n",
    "        \n",
    "    apfd_gas_file_base_name = file_base_name + '_apfd_gas'\n",
    "    apfd_liq_file_base_name = file_base_name + '_apfd_liq'\n",
    "#     dlpno_file_base_name = file_base_name + '_dlpno'\n",
    "\n",
    "#     apfd_gas_file_base_name = file_base_name + '_wb97xd_def2svp_gas'\n",
    "#     apfd_liq_file_base_name = file_base_name + '_wb97xd_def2svp_liq'\n",
    "#     dlpno_file_base_name = file_base_name + '_dlpno_wb97xd_def2svp_liq'\n",
    "    \n",
    "    apfd_gas_file_path = os.path.join(apfd_gas_dir_path, apfd_gas_file_base_name + '.gjf')\n",
    "    with open(apfd_gas_file_path, 'wt') as f:\n",
    "        f.write(apfd_gas_script.format(name=apfd_gas_file_base_name, xyz=xyz_str))\n",
    "    \n",
    "    \n",
    "    apfd_liq_file_path = os.path.join(apfd_liq_dir_path, apfd_liq_file_base_name + '.gjf')\n",
    "    with open(apfd_liq_file_path, 'wt') as f:\n",
    "        f.write(apfd_liq_script.format(name=apfd_liq_file_base_name, xyz=xyz_str))\n",
    "    \n",
    "    \n",
    "#     dlpno_file_path = os.path.join(dlpno_dir_path, dlpno_file_base_name + '.in')\n",
    "#     with open(dlpno_file_path, 'wt') as f:\n",
    "#         f.write(dlpno_script.format(xyz=xyz_str))"
   ]
  },
  {
   "cell_type": "code",
   "execution_count": null,
   "metadata": {},
   "outputs": [],
   "source": []
  },
  {
   "cell_type": "code",
   "execution_count": null,
   "metadata": {},
   "outputs": [],
   "source": []
  },
  {
   "cell_type": "code",
   "execution_count": 27,
   "metadata": {},
   "outputs": [
    {
     "name": "stdout",
     "output_type": "stream",
     "text": [
      "time: 530 µs\n"
     ]
    }
   ],
   "source": [
    "# with open(os.path.join(cwd, 'all_converged_ts_energy_distinct_g16.yml'), 'w') as outfile:\n",
    "#     yaml.dump(all_converged_ts_energy_distinct_dict, outfile, default_flow_style=False)"
   ]
  },
  {
   "cell_type": "code",
   "execution_count": 28,
   "metadata": {},
   "outputs": [
    {
     "name": "stdout",
     "output_type": "stream",
     "text": [
      "time: 1.63 ms\n"
     ]
    }
   ],
   "source": [
    "# def highlight_max(data, color='yellow'):\n",
    "#     '''\n",
    "#     highlight the maximum in a Series or DataFrame\n",
    "#     '''\n",
    "#     attr = 'background-color: {}'.format(color)\n",
    "#     if data.ndim == 1:  # Series from .apply(axis=0) or axis=1\n",
    "#         is_max = data == data.max()\n",
    "#         return [attr if v else '' for v in is_max]\n",
    "#     else:  # from .apply(axis=None)\n",
    "#         is_max = data == data.max().max()\n",
    "#         return pd.DataFrame(np.where(is_max, attr, ''),\n",
    "#                             index=data.index, columns=data.columns)\n",
    "# def highlight_min(data, color='lightgreen'):\n",
    "#     '''\n",
    "#     highlight the minimum in a Series or DataFrame\n",
    "#     '''\n",
    "#     attr = 'background-color: {}'.format(color)\n",
    "#     if data.ndim == 1:  # Series from .apply(axis=0) or axis=1\n",
    "#         is_min = data == data.min()\n",
    "#         return [attr if v else '' for v in is_min]\n",
    "#     else:  # from .apply(axis=None)\n",
    "#         is_min = data == data.min().min()\n",
    "#         return pd.DataFrame(np.where(is_min, attr, ''),\n",
    "#                             index=data.index, columns=data.columns)"
   ]
  },
  {
   "cell_type": "code",
   "execution_count": 29,
   "metadata": {
    "scrolled": true
   },
   "outputs": [
    {
     "name": "stdout",
     "output_type": "stream",
     "text": [
      "time: 2.56 ms\n"
     ]
    }
   ],
   "source": [
    "# df = pd.DataFrame(all_converged_ts_energy_distinct_dict.values()).sort_values(by=[0])\n",
    "# # df = df - np.nanmin(df.to_numpy())\n",
    "# cm = ListedColormap(sns.color_palette(\"coolwarm\", 7))\n",
    "# df.style.background_gradient(cmap=cm).highlight_null('white').apply(highlight_max, axis=None).apply(highlight_min, axis=None)"
   ]
  },
  {
   "cell_type": "code",
   "execution_count": 30,
   "metadata": {},
   "outputs": [
    {
     "name": "stdout",
     "output_type": "stream",
     "text": [
      "time: 8.41 ms\n"
     ]
    }
   ],
   "source": [
    "# 627.5094740631 * 0.024598"
   ]
  },
  {
   "cell_type": "code",
   "execution_count": 31,
   "metadata": {},
   "outputs": [
    {
     "name": "stdout",
     "output_type": "stream",
     "text": [
      "time: 3.92 ms\n"
     ]
    }
   ],
   "source": [
    "# (-573.277143084 - -573.292500) * 627.5094740631"
   ]
  },
  {
   "cell_type": "code",
   "execution_count": 32,
   "metadata": {},
   "outputs": [
    {
     "name": "stdout",
     "output_type": "stream",
     "text": [
      "time: 4.44 ms\n"
     ]
    }
   ],
   "source": [
    "# dummy = 0\n",
    "# xyz_dict = dict()\n",
    "# for i in all_converged_ts_xyz_distinct_tuple:\n",
    "#     xyz_dict[dummy] = xyz_to_xyz_file_format(i)\n",
    "#     dummy += 1"
   ]
  },
  {
   "cell_type": "code",
   "execution_count": 33,
   "metadata": {},
   "outputs": [
    {
     "name": "stdout",
     "output_type": "stream",
     "text": [
      "time: 3.05 ms\n"
     ]
    }
   ],
   "source": [
    "# with open(os.path.join(cwd, 'converged_distinct_xyz.yml'), 'w') as outfile:\n",
    "#     yaml.dump(xyz_dict, outfile, default_flow_style=False)"
   ]
  },
  {
   "cell_type": "raw",
   "metadata": {},
   "source": []
  }
 ],
 "metadata": {
  "kernelspec": {
   "display_name": "Python 3",
   "language": "python",
   "name": "python3"
  },
  "language_info": {
   "codemirror_mode": {
    "name": "ipython",
    "version": 3
   },
   "file_extension": ".py",
   "mimetype": "text/x-python",
   "name": "python",
   "nbconvert_exporter": "python",
   "pygments_lexer": "ipython3",
   "version": "3.7.7"
  }
 },
 "nbformat": 4,
 "nbformat_minor": 4
}
