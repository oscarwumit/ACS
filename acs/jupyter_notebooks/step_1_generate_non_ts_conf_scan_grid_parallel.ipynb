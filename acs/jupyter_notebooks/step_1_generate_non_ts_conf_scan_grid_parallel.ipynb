{
 "cells": [
  {
   "cell_type": "code",
   "execution_count": 1,
   "metadata": {},
   "outputs": [],
   "source": [
    "%load_ext autotime\n",
    "from arc.species.species import ARCSpecies\n",
    "from arc.species.zmat import zmat_to_coords\n",
    "from arc.species.converter import xyz_to_xyz_file_format, str_to_zmat, zmat_to_xyz, modify_coords\n",
    "from arc.plotter import show_sticks\n",
    "import yaml\n",
    "import os\n",
    "import psi4\n",
    "import shutil\n",
    "from itertools import combinations \n",
    "from joblib import Parallel, delayed\n",
    "from typing import Dict, Iterable, List, Optional, Tuple, Union\n",
    "from IPython.core.display import display, HTML\n",
    "display(HTML(\"<style>.container { width:100% !important; }</style>\"))"
   ]
  },
  {
   "cell_type": "code",
   "execution_count": 2,
   "metadata": {},
   "outputs": [
    {
     "name": "stdout",
     "output_type": "stream",
     "text": [
      "time: 4.63 ms\n"
     ]
    }
   ],
   "source": [
    "def convert_gaussian_zmat_to_arc_zmat(zmat_file_path):\n",
    "# Read Gaussian input file with zmat info, output arc zmat\n",
    "\n",
    "    # read gaussian input\n",
    "    atom_dict = dict()\n",
    "    hydrogen_list = list()\n",
    "    connectivity_dict = dict()\n",
    "\n",
    "    with open(zmat_file_path, 'r') as f:\n",
    "        index = 1\n",
    "        line = f.readline()\n",
    "        flag0 = True\n",
    "        flag1 = False\n",
    "        flag2 = False\n",
    "        while line:\n",
    "            if flag0:\n",
    "                try:\n",
    "                    if not line.split()[0] == \"0\":\n",
    "                        line = f.readline()\n",
    "                    else:\n",
    "                        flag0 = False\n",
    "                        flag1 = True\n",
    "                        line = f.readline()\n",
    "                except IndexError:\n",
    "                    line = f.readline()\n",
    "\n",
    "            if flag1:\n",
    "                line_content = line.split()\n",
    "                atom_dict[index] = dict()\n",
    "                atom_dict[index].update(atom = line_content[0])\n",
    "                if line_content[0] == 'H':\n",
    "                    hydrogen_list.append(index)\n",
    "                if index > 1:\n",
    "                    atom_dict[index].update(bond = (line_content[1], line_content[2]))\n",
    "                if index > 2:\n",
    "                    atom_dict[index].update(angle = (line_content[3], line_content[4]))\n",
    "                if index > 3:\n",
    "                    atom_dict[index].update(dihedral = (line_content[5], line_content[6]))\n",
    "                line = f.readline()\n",
    "                index += 1\n",
    "                if not line.split():\n",
    "                    flag1 = False\n",
    "                    flag2 = True\n",
    "                    line = f.readline()\n",
    "            elif flag2:\n",
    "                line_content = line.split()\n",
    "                if not line_content:\n",
    "                    break\n",
    "                key = line_content[0]\n",
    "                val = line_content[1]\n",
    "                connectivity_dict[key] = val\n",
    "                line = f.readline()\n",
    "      \n",
    "    # convert to ARC zmat\n",
    "    arc_zmat = dict()\n",
    "    symbols_list = list()\n",
    "    coords_list = list()\n",
    "    vars_dict = dict()\n",
    "    map_dict = dict()\n",
    "            \n",
    "    for atom_id in atom_dict.keys():\n",
    "        atom_num = atom_id - 1\n",
    "        map_dict[atom_num] = atom_num\n",
    "\n",
    "        atom_id_dict = atom_dict[atom_id]\n",
    "\n",
    "        symbols_list.append(atom_id_dict['atom'])\n",
    "\n",
    "        bond_info_tuple = atom_id_dict.get('bond', None)\n",
    "        angle_info_tuple = atom_id_dict.get('angle', None)\n",
    "        dihedral_info_tuple = atom_id_dict.get('dihedral', None)\n",
    "\n",
    "        R = None\n",
    "        A = None\n",
    "        D = None\n",
    "\n",
    "        if bond_info_tuple is not None:\n",
    "            r = str(int(bond_info_tuple[0]) - 1)\n",
    "            R = '_'.join(['R', str(atom_num), r])\n",
    "            vars_dict[R] = float(connectivity_dict[bond_info_tuple[1]])\n",
    "\n",
    "        if angle_info_tuple is not None:\n",
    "            a = str(int(angle_info_tuple[0]) - 1)\n",
    "            A = '_'.join(['A', str(atom_num), r, a])\n",
    "            vars_dict[A] = float(connectivity_dict[angle_info_tuple[1]])\n",
    "\n",
    "        if dihedral_info_tuple is not None:\n",
    "            d = str(int(dihedral_info_tuple[0]) - 1)\n",
    "            D = '_'.join(['D', str(atom_num), r, a, d])\n",
    "            vars_dict[D] = float(connectivity_dict[dihedral_info_tuple[1]])\n",
    "\n",
    "        coords_list.append((R, A, D))\n",
    "\n",
    "    arc_zmat['symbols'] = tuple(symbols_list)\n",
    "    arc_zmat['coords'] = tuple(coords_list)\n",
    "    arc_zmat['vars'] = vars_dict\n",
    "    arc_zmat['map'] = map_dict\n",
    "    \n",
    "    return arc_zmat"
   ]
  },
  {
   "cell_type": "code",
   "execution_count": 3,
   "metadata": {},
   "outputs": [
    {
     "name": "stdout",
     "output_type": "stream",
     "text": [
      "time: 1.73 ms\n"
     ]
    }
   ],
   "source": [
    "cwd = os.getcwd()\n",
    "zmat_file_path = os.path.join(cwd, 'imipramine_4_oo.gjf')\n",
    "arc_zmat = convert_gaussian_zmat_to_arc_zmat(zmat_file_path)"
   ]
  },
  {
   "cell_type": "code",
   "execution_count": 4,
   "metadata": {},
   "outputs": [
    {
     "name": "stdout",
     "output_type": "stream",
     "text": [
      "time: 517 ms\n"
     ]
    }
   ],
   "source": [
    "spc_name = 'imipramine_4_oo'\n",
    "spc = ARCSpecies(label=spc_name, xyz=arc_zmat, is_ts=False, multiplicity=2, smiles='NCCC(O[O])N(C)C')\n",
    "spc.mol_from_xyz(arc_zmat)\n",
    "\n",
    "spc.determine_rotors()\n",
    "dihedrals = list()\n",
    "for i in range(len(spc.rotors_dict.keys())):\n",
    "    dihedrals.append(spc.rotors_dict[i]['scan'])\n",
    "\n",
    "comb = combinations(dihedrals, 2)\n",
    "all_2d_dihedrals = tuple(comb)\n",
    "\n",
    "cwd = os.getcwd()\n",
    "save_folder = cwd + '/' + spc_name + '_2d_grid_sp'\n",
    "if os.path.exists(save_folder):\n",
    "    shutil.rmtree(save_folder)\n",
    "os.mkdir(save_folder)\n",
    "\n",
    "scan_res = 45 # 360 / 45 = 8 deg per scan"
   ]
  },
  {
   "cell_type": "code",
   "execution_count": 5,
   "metadata": {},
   "outputs": [
    {
     "name": "stdout",
     "output_type": "stream",
     "text": [
      "time: 1.6 ms\n"
     ]
    }
   ],
   "source": [
    "def wrapper(n):\n",
    "    xyz_new_dict = dict()\n",
    "    indices_a = all_2d_dihedrals[n][0]\n",
    "    indices_b = all_2d_dihedrals[n][1]\n",
    "    print('-----------------------------')\n",
    "    print(f'considering combination: {all_2d_dihedrals[n]}')\n",
    "    for i in range(scan_res):\n",
    "        zmat_1 = modify_coords(coords=arc_zmat,\n",
    "                          indices=indices_a,\n",
    "                          new_value=i*8,\n",
    "                          modification_type='groups',\n",
    "                          mol=spc.mol,\n",
    "                          index=1,\n",
    "                          output_zmat = True,\n",
    "                         )\n",
    "        \n",
    "        for j in range(scan_res):\n",
    "            zmat_2 = modify_coords(coords=zmat_1,\n",
    "                                  indices=indices_b,\n",
    "                                  new_value=j*8,\n",
    "                                  modification_type='groups',\n",
    "                                  mol=spc.mol,\n",
    "                                  index=1,\n",
    "                                  output_zmat = True,\n",
    "                                 )\n",
    "            \n",
    "            xyz_new_dict[(i,j)] = xyz_to_xyz_file_format(zmat_to_xyz(zmat_2))\n",
    "            \n",
    "    comb_name = '_'.join([str(elem) for elem in indices_a]) + '_n_' + '_'.join([str(elem) for elem in indices_b])\n",
    "    file_name = spc_name + '_' + comb_name + '_coord.yml'\n",
    "    file_path = save_folder + '/' + file_name\n",
    "    with open(file_path, 'w') as outfile:\n",
    "        yaml.dump(xyz_new_dict, outfile, default_flow_style=False)"
   ]
  },
  {
   "cell_type": "code",
   "execution_count": 6,
   "metadata": {},
   "outputs": [
    {
     "data": {
      "text/plain": [
       "[None,\n",
       " None,\n",
       " None,\n",
       " None,\n",
       " None,\n",
       " None,\n",
       " None,\n",
       " None,\n",
       " None,\n",
       " None,\n",
       " None,\n",
       " None,\n",
       " None,\n",
       " None,\n",
       " None,\n",
       " None,\n",
       " None,\n",
       " None,\n",
       " None,\n",
       " None,\n",
       " None]"
      ]
     },
     "execution_count": 6,
     "metadata": {},
     "output_type": "execute_result"
    },
    {
     "name": "stdout",
     "output_type": "stream",
     "text": [
      "time: 1min 25s\n"
     ]
    }
   ],
   "source": [
    "Parallel(n_jobs=-1)(delayed(wrapper)(n) for n in range(len(all_2d_dihedrals)))"
   ]
  },
  {
   "cell_type": "code",
   "execution_count": null,
   "metadata": {},
   "outputs": [],
   "source": []
  },
  {
   "cell_type": "code",
   "execution_count": null,
   "metadata": {},
   "outputs": [],
   "source": []
  },
  {
   "cell_type": "code",
   "execution_count": null,
   "metadata": {},
   "outputs": [],
   "source": []
  }
 ],
 "metadata": {
  "kernelspec": {
   "display_name": "Python 3",
   "language": "python",
   "name": "python3"
  },
  "language_info": {
   "codemirror_mode": {
    "name": "ipython",
    "version": 3
   },
   "file_extension": ".py",
   "mimetype": "text/x-python",
   "name": "python",
   "nbconvert_exporter": "python",
   "pygments_lexer": "ipython3",
   "version": "3.7.7"
  },
  "latex_envs": {
   "LaTeX_envs_menu_present": true,
   "autoclose": false,
   "autocomplete": true,
   "bibliofile": "biblio.bib",
   "cite_by": "apalike",
   "current_citInitial": 1,
   "eqLabelWithNumbers": true,
   "eqNumInitial": 1,
   "hotkeys": {
    "equation": "Ctrl-E",
    "itemize": "Ctrl-I"
   },
   "labels_anchors": false,
   "latex_user_defs": false,
   "report_style_numbering": false,
   "user_envs_cfg": false
  },
  "toc": {
   "base_numbering": 1,
   "nav_menu": {},
   "number_sections": true,
   "sideBar": true,
   "skip_h1_title": false,
   "title_cell": "Table of Contents",
   "title_sidebar": "Contents",
   "toc_cell": false,
   "toc_position": {},
   "toc_section_display": true,
   "toc_window_display": false
  },
  "varInspector": {
   "cols": {
    "lenName": 16,
    "lenType": 16,
    "lenVar": 40
   },
   "kernels_config": {
    "python": {
     "delete_cmd_postfix": "",
     "delete_cmd_prefix": "del ",
     "library": "var_list.py",
     "varRefreshCmd": "print(var_dic_list())"
    },
    "r": {
     "delete_cmd_postfix": ") ",
     "delete_cmd_prefix": "rm(",
     "library": "var_list.r",
     "varRefreshCmd": "cat(var_dic_list()) "
    }
   },
   "types_to_exclude": [
    "module",
    "function",
    "builtin_function_or_method",
    "instance",
    "_Feature"
   ],
   "window_display": false
  }
 },
 "nbformat": 4,
 "nbformat_minor": 4
}
