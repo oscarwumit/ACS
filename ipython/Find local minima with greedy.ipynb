{
 "cells": [
  {
   "cell_type": "markdown",
   "metadata": {},
   "source": [
    "# Find local minima on the scanned potential energy surface by greedy algorithm"
   ]
  },
  {
   "cell_type": "markdown",
   "metadata": {},
   "source": [
    "Necessary packages"
   ]
  },
  {
   "cell_type": "code",
   "execution_count": null,
   "metadata": {},
   "outputs": [],
   "source": [
    "import os\n",
    "import yaml\n",
    "from itertools import product\n",
    "\n",
    "import matplotlib.pyplot as plt\n",
    "import numpy as np\n",
    "import seaborn as sns\n",
    "from matplotlib.patches import Rectangle\n",
    "\n",
    "from IPython.core.display import display, HTML\n",
    "display(HTML(\"<style>.container { width:100% !important; }</style>\"))"
   ]
  },
  {
   "cell_type": "code",
   "execution_count": null,
   "metadata": {},
   "outputs": [],
   "source": [
    "def get_step_to_adjacent_points(fsize, dim=2, cutoff=np.inf):\n",
    "    one_d_points = list(range(- fsize, fsize + 1))\n",
    "    var_combinations = product(*[one_d_points] * dim)\n",
    "    for points in var_combinations:\n",
    "        dist = np.linalg.norm(np.array(points))\n",
    "        if dist <= cutoff:\n",
    "            yield points\n",
    "\n",
    "def get_energy(coord, energies):\n",
    "    try:\n",
    "        return energies[coord]\n",
    "    except IndexError:\n",
    "        new_coord = tuple(x if x < energies.shape[i] else\n",
    "                          x - energies.shape[i] for i, x in enumerate(coord))\n",
    "        return energies[new_coord]\n",
    "\n",
    "def compare_to_adjacent_point(coord, energies, unchecked_points, filters):\n",
    "        \n",
    "    # each element is a coordinate\n",
    "    new_coords = [tuple(x + var_x for x, var_x in zip(coord, var))\n",
    "                  for var in filters]\n",
    "\n",
    "    # Get the energies of adjacent points\n",
    "    energies = [get_energy(new_coord, energies) for new_coord in new_coords]\n",
    "\n",
    "    # Sorted\n",
    "    energies, new_coords = zip(*sorted(zip(energies, new_coords)))\n",
    "\n",
    "    # Find the current point index and points that has higher energy than this point\n",
    "    # Will be removed from unchecked points list\n",
    "    cur_point_ind = new_coords.index(coord)\n",
    "    for new_coord in new_coords[cur_point_ind:]:\n",
    "        try:\n",
    "            unchecked_points.remove(new_coord)\n",
    "        except ValueError:\n",
    "            # ValueError if coord_min is not in unchecked_points\n",
    "            pass\n",
    "    return new_coords[0]  \n",
    "\n",
    "\n",
    "def search_for_a_minimum(coord, energies, unchecked_points, filters):\n",
    "    while True:\n",
    "        next_point = compare_to_adjacent_point(coord, energies,\n",
    "                                               unchecked_points, filters)\n",
    "        next_point = tuple(x if x >= 0 else energies.shape[i] + x\n",
    "                           for i, x in enumerate(next_point))\n",
    "        if next_point == coord:\n",
    "            return coord\n",
    "        elif next_point not in unchecked_points:\n",
    "            return\n",
    "        else:\n",
    "            coord = next_point\n",
    "\n",
    "            \n",
    "def search_minimum(energies, fsize, cutoff=np.inf):\n",
    "    minimum = []\n",
    "    \n",
    "    dim = len(energies.shape)\n",
    "    filters = list(get_step_to_adjacent_points(fsize, dim, cutoff))\n",
    "\n",
    "    oned_points = [list(range(energies.shape[i])) for i in range(dim)]\n",
    "    unchecked_points = list(product(*oned_points))\n",
    "\n",
    "    while True:\n",
    "        if not unchecked_points:\n",
    "            break \n",
    "        coord = unchecked_points[np.random.randint(len(unchecked_points))]\n",
    "        new_min = search_for_a_minimum(coord, energies,\n",
    "                                       unchecked_points, filters)\n",
    "        if new_min:\n",
    "            minimum.append(new_min)\n",
    "    return minimum"
   ]
  },
  {
   "cell_type": "markdown",
   "metadata": {},
   "source": [
    "## 1. Load energies from the yaml file"
   ]
  },
  {
   "cell_type": "code",
   "execution_count": null,
   "metadata": {},
   "outputs": [],
   "source": [
    "path = '/Users/xiaorui/Downloads/en_imipramine_4_oo_2d_scan/en_imipramine_4_oo_3_1_2_4_n_2_4_11_21_coord.yml'\n",
    "steps = 45"
   ]
  },
  {
   "cell_type": "code",
   "execution_count": null,
   "metadata": {},
   "outputs": [],
   "source": [
    "with open(path) as file:\n",
    "        bookkeep = yaml.load(file, Loader=yaml.FullLoader)\n",
    "        \n",
    "energies = np.zeros((steps, steps))\n",
    "\n",
    "# Get the maximum energy and set NaNs based on the maximum energy\n",
    "max_energy = max([e for e in bookkeep.values() if not np.isnan(e)])\n",
    "\n",
    "for key in bookkeep.keys():\n",
    "    i, j = key\n",
    "    if np.isnan(bookkeep[key]):\n",
    "        energies[i, j] = 0.99 * max_energy if max_energy < 0 else 1.01 * max_energy\n",
    "    else:\n",
    "        energies[i, j] = bookkeep[key]\n",
    "\n",
    "# Rescale the energy based on the lowest energy\n",
    "# This will not change the result of search but make detailed view more clear\n",
    "energies = energies - np.min(energies)"
   ]
  },
  {
   "cell_type": "markdown",
   "metadata": {},
   "source": [
    "## 2. Search for the local minimum\n",
    "Optional arguments:\n",
    "- fsize (int): a number indicate the filter size. For example, if `fsize = 1`, the minimal point found will be smaller than the adjacent point with indexes plus/minus 1."
   ]
  },
  {
   "cell_type": "code",
   "execution_count": null,
   "metadata": {},
   "outputs": [],
   "source": [
    "minimum_points = search_minimum(energies, fsize=2)"
   ]
  },
  {
   "cell_type": "markdown",
   "metadata": {},
   "source": [
    "## 3. Plot the energy surface with minimum identified"
   ]
  },
  {
   "cell_type": "code",
   "execution_count": null,
   "metadata": {},
   "outputs": [],
   "source": [
    "fig_size = (28, 20); annot=True  # detailed view\n",
    "fig_size = (5, 4); annot=False  # overlook view\n"
   ]
  },
  {
   "cell_type": "code",
   "execution_count": null,
   "metadata": {
    "scrolled": false
   },
   "outputs": [],
   "source": [
    "f, ax = plt.subplots(figsize=fig_size)\n",
    "\n",
    "# Remove NaNs from the surface\n",
    "mask = np.zeros_like(energies)\n",
    "for key in bookkeep.keys():\n",
    "    i, j = key\n",
    "    if np.isnan(bookkeep[key]):\n",
    "        mask[i, j] = 1\n",
    "\n",
    "# Plot as an heatmap by Seaborn\n",
    "ax = sns.heatmap(energies, vmin=0, vmax=0.2, cmap=\"YlGnBu\", annot=annot, annot_kws={\"fontsize\":8}, mask=mask)\n",
    "\n",
    "# Identified the minimum by red rectangle patches\n",
    "for point in minimum_points:\n",
    "    # In the heatmap, the first index is for the y-axis\n",
    "    # while in the pyplot the first index is for the x-axis\n",
    "    # therefore, for displaying, we need to invert the axis\n",
    "    if energies[point[0], point[1]] < 0.5:\n",
    "        ax.add_patch(Rectangle(point[::-1], 1, 1, fill=False, edgecolor='red', lw=2))\n",
    "\n",
    "plt.show()"
   ]
  },
  {
   "cell_type": "code",
   "execution_count": null,
   "metadata": {},
   "outputs": [],
   "source": []
  }
 ],
 "metadata": {
  "@webio": {
   "lastCommId": null,
   "lastKernelId": null
  },
  "kernelspec": {
   "display_name": "Python 3",
   "language": "python",
   "name": "python3"
  },
  "language_info": {
   "codemirror_mode": {
    "name": "ipython",
    "version": 3
   },
   "file_extension": ".py",
   "mimetype": "text/x-python",
   "name": "python",
   "nbconvert_exporter": "python",
   "pygments_lexer": "ipython3",
   "version": "3.7.7"
  }
 },
 "nbformat": 4,
 "nbformat_minor": 4
}
