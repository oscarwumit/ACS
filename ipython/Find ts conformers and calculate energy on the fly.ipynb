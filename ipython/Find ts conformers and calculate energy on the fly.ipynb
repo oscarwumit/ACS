{
 "cells": [
  {
   "cell_type": "markdown",
   "metadata": {},
   "source": [
    "# Find TS conformers and calculate energy on the fly\n",
    "This uses a RDkit as backend to generate the TS conformers and calculate the energy by Psi4.\n",
    "\n",
    "Note: if the jupyter notebook crashes. It is highly possible that the `openbabel` and `rdkit` <br>\n",
    "uses different dependencies during compiling, assuming you are using conda builds.<br>\n",
    "You can either try to build your own version (solve the problem) or change the import sequence<br>\n",
    "(can make the latter one malfunctioning when use some of the methods)<br>"
   ]
  },
  {
   "cell_type": "markdown",
   "metadata": {},
   "source": [
    "## 1. Generate conformers\n",
    "Necessary packages"
   ]
  },
  {
   "cell_type": "code",
   "execution_count": null,
   "metadata": {},
   "outputs": [],
   "source": [
    "import sys\n",
    "sys.path.append('/Users/xiaorui/Apps/ACS')"
   ]
  },
  {
   "cell_type": "code",
   "execution_count": null,
   "metadata": {},
   "outputs": [],
   "source": [
    "import os\n",
    "import multiprocessing\n",
    "from copy import deepcopy\n",
    "from itertools import combinations, product\n",
    "from typing import List, Optional, Union\n",
    "\n",
    "import numpy as np\n",
    "import psi4\n",
    "from joblib import Parallel, delayed\n",
    "from rdkit import Chem\n",
    "\n",
    "from acs.backend.rdk import RDKitConf, RDKitTS\n",
    "from acs.converter.geom import (xyz_str_to_xyz_dict,\n",
    "                                xyz_dict_to_xyz_str,\n",
    "                                xyz_dict_to_xyz_file)\n",
    "import pybel\n",
    "\n",
    "%load_ext autoreload\n",
    "%load_ext autotime\n",
    "%autoreload 2\n",
    "%matplotlib inline"
   ]
  },
  {
   "cell_type": "code",
   "execution_count": null,
   "metadata": {
    "scrolled": false
   },
   "outputs": [],
   "source": [
    "def get_separable_angle_list(samplings: Union[list, tuple],\n",
    "                             from_angles: Optional[Union[list, tuple]] = None):\n",
    "    \"\"\"\n",
    "    Get a angle list for each input dimension. For each dimension\n",
    "    The input can be a int, indicating the angles will be evenly sampled;\n",
    "    Or a list, indicate the angles to be sampled;\n",
    "    Examples:\n",
    "    [[120, 240,], 4, 0] => [np.array([120, 240,]), \n",
    "                            np.array([0, 90, 180, 270,]), \n",
    "                            np.array([0])]\n",
    "    List of np.arrays are returned for the sake of further calculation\n",
    "    \n",
    "    Args:\n",
    "        samplings (Union[list, tuple]): An array of sampling information.\n",
    "                  For each element, it can be either list or int.\n",
    "        from_angles (Union[list, tuple]): An array of initial angles.\n",
    "                    If not set, angles will begin at zeros.\n",
    "    \n",
    "    Returns:\n",
    "        list: A list of sampled angles sets.\n",
    "    \"\"\"\n",
    "    from_angles = from_angles or len(samplings) * [0.]\n",
    "    angle_list = []\n",
    "    for ind, angles in enumerate(samplings):\n",
    "        # Only provide a number\n",
    "        # This is the step number of the angles\n",
    "        if isinstance(angles, (int, float)):\n",
    "            try:\n",
    "                step = 360 // angles\n",
    "            except ZeroDivisionError:\n",
    "                # Does not change\n",
    "                angles = from_angles[ind] + np.array([0])\n",
    "            else:\n",
    "                angles = from_angles[ind] + \\\n",
    "                         np.array([step * i for i in range(angles)])\n",
    "        elif isinstance(angles, list):\n",
    "            angles = from_angles[ind] + np.array(angles)\n",
    "            \n",
    "        # Set to 0 - 360 range\n",
    "        for i in range(angles.shape[0]):\n",
    "            while angles[i] < 0.:\n",
    "                angles[i] += 360\n",
    "            while angles[i] > 360.:\n",
    "                angles[i] -= 360\n",
    "\n",
    "        angle_list.append(angles.tolist())            \n",
    "    return angle_list\n",
    "\n",
    "\n",
    "def conformers_by_change_torsions(conf: 'RDKitConf',\n",
    "                                  angle_mesh,\n",
    "                                  bookkeep: dict,\n",
    "                                  torsions=None,\n",
    "                                  on_the_fly_check=False):\n",
    "    \"\"\"\n",
    "    Generate conformers by rotating the angles of the torsions. The result will be saved into\n",
    "    ``bookkeep``. A on-the-fly check can be applied, which identifies the conformers with colliding\n",
    "    atoms.\n",
    "    \n",
    "    Args:\n",
    "        conf (RDkitConf): A RDKit Conformer to be used.\n",
    "        angle_mesh (iterable): An iterable contains the angle_list for conformers to be generated from.\n",
    "        bookkeep (dict): A dictionary to save the coords.\n",
    "        torsions (list): A list of four-atom-index lists indicating the torsional modes.\n",
    "        on_the_fly_filter (bool): Whether to check colliding atoms on the fly.\n",
    "    \"\"\"\n",
    "    if not torsions:\n",
    "        torsions = conf.GetTorsionalModes()\n",
    "        for ind, angles in enumerate(angle_mesh):\n",
    "            conf.SetAllTorsionsDeg(angles)\n",
    "            bookkeep[ind] = {'angles': angles,\n",
    "                             'coords': conf.GetPositions().tolist()}\n",
    "            bookkeep[ind]['colliding_atoms'] = conf.HasCollidingAtoms() \\\n",
    "                if on_the_fly_check == True else None\n",
    "\n",
    "    else:\n",
    "        all_torsions = conf.GetTorsionalModes()\n",
    "        try:\n",
    "            changing_torsions_index = [all_torsions.index(tor) for tor in torsions]\n",
    "        except ValueError as e:\n",
    "            # tor not in all_torsions\n",
    "            raise\n",
    "            \n",
    "        original_angles = conf.GetAllTorsionsDeg()\n",
    "\n",
    "        for ind, angles in enumerate(angle_mesh):\n",
    "            for i, angle, tor in zip(range(len(angles)), angles, torsions):\n",
    "                conf.SetTorsionDeg(tor, angle)\n",
    "                original_angles[changing_torsions_index[i]] = angle\n",
    "                \n",
    "            bookkeep[ind] = {'angles': original_angles,\n",
    "                             'coords': conf.GetPositions().tolist()}\n",
    "            bookkeep[ind]['colliding_atoms'] = conf.HasCollidingAtoms() \\\n",
    "                    if on_the_fly_check == True else None"
   ]
  },
  {
   "cell_type": "markdown",
   "metadata": {},
   "source": [
    "## 1.1 Perceive a molecule from xyz"
   ]
  },
  {
   "cell_type": "code",
   "execution_count": null,
   "metadata": {
    "scrolled": true
   },
   "outputs": [],
   "source": [
    "######################################\n",
    "# INPUT\n",
    "xyz_str=\"\"\"C          0.86917        1.50073       -0.41702\n",
    "C         -0.47607        2.03752        0.01854\n",
    "H          0.85087        0.99684       -1.38520\n",
    "H          1.16254        0.53083        0.35265\n",
    "C         -1.66031        1.18407       -0.41323\n",
    "H         -0.48474        2.19298        1.10199\n",
    "H         -0.61511        3.02720       -0.42857\n",
    "N         -1.64328       -0.19909        0.05343\n",
    "H         -1.68450        1.15374       -1.50571\n",
    "H         -2.58945        1.68138       -0.08673\n",
    "C         -2.74796       -0.93786       -0.53898\n",
    "C         -1.67887       -0.29955        1.50384\n",
    "H         -2.69951       -1.98186       -0.22875\n",
    "H         -3.72671       -0.52994       -0.24178\n",
    "H         -2.67337       -0.90452       -1.62638\n",
    "H         -1.69925       -1.35091        1.79085\n",
    "H         -2.56817        0.19427        1.92693\n",
    "H         -0.78293        0.13647        1.93981\n",
    "O          1.61241       -0.39643        1.10878\n",
    "O          2.26285       -1.25639        0.24798\n",
    "C          1.32762       -2.20908       -0.22666\n",
    "O          0.43662       -1.69114       -1.13896\n",
    "H          1.94625       -2.95523       -0.72774\n",
    "H          0.82192       -2.64082        0.64549\n",
    "H         -0.24063       -1.15943       -0.66324\n",
    "N          1.91323        2.44655       -0.35205\n",
    "H          1.98740        2.90733        0.54373\n",
    "H          2.80917        2.06603       -0.61836\n",
    "\"\"\"\n",
    "######################################"
   ]
  },
  {
   "cell_type": "markdown",
   "metadata": {},
   "source": [
    "## 1.1 Perceive TS"
   ]
  },
  {
   "cell_type": "markdown",
   "metadata": {},
   "source": [
    "### 1.1.1 Pybel (openbabel) is used to roughly perceive the molecular connectivity"
   ]
  },
  {
   "cell_type": "code",
   "execution_count": null,
   "metadata": {
    "scrolled": true
   },
   "outputs": [],
   "source": [
    "xyz_file = f\"{len(xyz_str.splitlines())}\\n\\n{xyz_str}\"\n",
    "xyz_dict = xyz_str_to_xyz_dict(xyz_str)\n",
    "pybel_mol = pybel.readstring('xyz', xyz_file)\n",
    "\n",
    "rdkitts = RDKitTS.FromOBMol(pybel_mol.OBMol)\n",
    "\n",
    "rdkitts.EmbedConformer()\n",
    "conf = rdkitts.GetConformer()\n",
    "conf.SetPositions(xyz_dict['coords'])"
   ]
  },
  {
   "cell_type": "markdown",
   "metadata": {},
   "source": [
    "### 1.1.2 Set the missing bonds existing in the TS. \n",
    "You can either set manually or use distance matrix and derived covalent matrix to infer which bonds are missing"
   ]
  },
  {
   "cell_type": "code",
   "execution_count": null,
   "metadata": {},
   "outputs": [],
   "source": [
    "######################################\n",
    "# INPUT\n",
    "bonds = []\n",
    "threshold = 1.6\n",
    "######################################\n",
    "print('Current connectivity perception:')\n",
    "display(rdkitts)\n",
    "if not bonds:\n",
    "    dist_mat = np.triu(rdkitts.GetDistanceMatrix())\n",
    "    covl_mat = rdkitts.GetCovalentMatrix()\n",
    "\n",
    "    for multiplier in np.arange(1.1, threshold, 0.1):\n",
    "        atom1s, atom2s = np.where((dist_mat - multiplier * covl_mat) < 0)\n",
    "        bonds = [(int(atom1s[i]), int(atom2s[i])) for i in range(len(atom1s))]\n",
    "        if bonds:\n",
    "            print(f\"Possible transition state bonds: {bonds} (with threshold = {multiplier:.1f})\")"
   ]
  },
  {
   "cell_type": "markdown",
   "metadata": {},
   "source": [
    "### 1.1.3 Overwrite the RDKitTS with new bonding info"
   ]
  },
  {
   "cell_type": "code",
   "execution_count": null,
   "metadata": {
    "scrolled": false
   },
   "outputs": [],
   "source": [
    "rw_mol = rdkitts.ToRDMol()\n",
    "\n",
    "for bond in bonds:\n",
    "    # Use double bond to avoid to be counted as a torsional mode\n",
    "    # If you want to include it, please use BondType.SINGLE\n",
    "    rw_mol.AddBond(*bond, Chem.BondType.DOUBLE)\n",
    "    \n",
    "rdkitts = rdkitts.FromRDMol(rw_mol)\n",
    "print('Modified Molecule:')\n",
    "display(rdkitts)"
   ]
  },
  {
   "cell_type": "markdown",
   "metadata": {},
   "source": [
    "## 1.2 Use RDKit to generate conformers"
   ]
  },
  {
   "cell_type": "markdown",
   "metadata": {},
   "source": [
    "### 1.2.1 Initialize a conformer instance"
   ]
  },
  {
   "cell_type": "code",
   "execution_count": null,
   "metadata": {},
   "outputs": [],
   "source": [
    "# Create a Conformer instance and set the initial xyz\n",
    "rdkitts.EmbedConformer()\n",
    "conf = rdkitts.GetConformer()\n",
    "conf.SetPositions(xyz_dict['coords'])"
   ]
  },
  {
   "cell_type": "markdown",
   "metadata": {},
   "source": [
    "### 1.2.2 Get the torsional mode and the original angles"
   ]
  },
  {
   "cell_type": "code",
   "execution_count": null,
   "metadata": {},
   "outputs": [],
   "source": [
    "# You can set the correct (all) torsions, otherwise RDKit will perceive.\n",
    "######################################\n",
    "# INPUT\n",
    "torsions = None\n",
    "######################################\n",
    "if not torsions:\n",
    "    torsions = rdkitts.GetTorsionalModes()\n",
    "    print(f'RDKit perceived torsions: {torsions}')\n",
    "\n",
    "conf.SetTorsionalModes(torsions)\n",
    "num_torsions = len(torsions)\n",
    "original_angles = conf.GetAllTorsionsDeg()\n",
    "print('Torsions highlighted in the molecule:')\n",
    "display(rdkitts)\n",
    "print(f'The original dihedral angles is: {original_angles}')"
   ]
  },
  {
   "cell_type": "markdown",
   "metadata": {},
   "source": [
    "### 1.2.3 Generate conformers according to the mangle mesh"
   ]
  },
  {
   "cell_type": "markdown",
   "metadata": {},
   "source": [
    "Example1: Sampling the angles `0, 120, 240` for each torsion <br>\n",
    "For reference, a 7 heavy atom species with 5 rotors cost ~20 ms on Intel(R) Core(TM) i9-9880H CPU @ 2.30GHz"
   ]
  },
  {
   "cell_type": "code",
   "execution_count": null,
   "metadata": {},
   "outputs": [],
   "source": [
    "sampling = [3] * len(torsions)  # sampling = [[0., 120., 240.]] is equivalent"
   ]
  },
  {
   "cell_type": "code",
   "execution_count": null,
   "metadata": {},
   "outputs": [],
   "source": [
    "angles_list = get_separable_angle_list(sampling,\n",
    "                                       original_angles)\n",
    "angle_mesh = product(*angles_list)\n",
    "\n",
    "# Save to bookkeep\n",
    "bookkeep = {}\n",
    "conformers_by_change_torsions(conf,\n",
    "                              angle_mesh,\n",
    "                              bookkeep=bookkeep,\n",
    "                              torsions=torsions,\n",
    "                              on_the_fly_check=True)"
   ]
  },
  {
   "cell_type": "markdown",
   "metadata": {},
   "source": [
    "Example2: Sampling the angles 45 x 45 points for each torsion pairs <br>\n",
    "For reference, a 7 heavy atom species with 5 rotors cost 1.4 s on Intel(R) Core(TM) i9-9880H CPU @ 2.30GHz"
   ]
  },
  {
   "cell_type": "code",
   "execution_count": null,
   "metadata": {},
   "outputs": [],
   "source": [
    "n_point_each_torsion = 20\n",
    "n_dimension = 2"
   ]
  },
  {
   "cell_type": "code",
   "execution_count": null,
   "metadata": {},
   "outputs": [],
   "source": [
    "bookkeeps = []\n",
    "\n",
    "for torsion_pair in combinations(torsions, n_dimension):\n",
    "    # Reset the geometry\n",
    "    conf.SetPositions(xyz_dict['coords'])\n",
    "    # Get angles\n",
    "    sampling = [n_point_each_torsion if tor in torsion_pair else 0\n",
    "                for tor in torsions]\n",
    "    angles_list = get_separable_angle_list(sampling,\n",
    "                                           original_angles)\n",
    "    angle_mesh = product(*angles_list)\n",
    "    # Generate conformers\n",
    "    bookkeep = {}\n",
    "    conformers_by_change_torsions(conf,\n",
    "                                  angle_mesh,\n",
    "                                  bookkeep=bookkeep,\n",
    "                                  torsions=torsions,\n",
    "                                  on_the_fly_check=True)\n",
    "    bookkeeps.append(bookkeep)"
   ]
  },
  {
   "cell_type": "markdown",
   "metadata": {},
   "source": [
    "### [OPTIONAL] Check colliding atoms of conformers\n",
    "if you run with on-the-fly check you can check the colliding atoms"
   ]
  },
  {
   "cell_type": "code",
   "execution_count": null,
   "metadata": {},
   "outputs": [],
   "source": [
    "# check_bookkeep = [bookkeep]  # Example 1\n",
    "check_bookkeep = bookkeeps # Example 2"
   ]
  },
  {
   "cell_type": "code",
   "execution_count": null,
   "metadata": {},
   "outputs": [],
   "source": [
    "total_collide = 0\n",
    "for i, bk in enumerate(check_bookkeep):\n",
    "    inds = []\n",
    "    for ind, value in bk.items():\n",
    "        if value['colliding_atoms']:\n",
    "            inds.append(ind)\n",
    "    total_collide += len(inds)\n",
    "    print(f\"Set {i}: {len(inds)} out of {len(bk)} conformers may have colliding atoms.\")\n",
    "print(f\"Total: {total_collide} out of {len(bk) * len(check_bookkeep)} conformers may have colliding atoms.\")"
   ]
  },
  {
   "cell_type": "markdown",
   "metadata": {},
   "source": [
    "### [OPTIONAL] Check volume of the TS\n",
    "You can check the distribution of the molecule exvolume to see whether the molecule is apart. It is possible to see smaller volume due to folding or colliding."
   ]
  },
  {
   "cell_type": "code",
   "execution_count": null,
   "metadata": {},
   "outputs": [],
   "source": [
    "import seaborn as sns\n",
    "import pandas as pd\n",
    "\n",
    "# check_bookkeep = [bookkeep]  # Example 1\n",
    "check_bookkeep = bookkeeps  # Example 2\n",
    "random_points = 10  # each group"
   ]
  },
  {
   "cell_type": "code",
   "execution_count": null,
   "metadata": {},
   "outputs": [],
   "source": [
    "rdkitts.EmbedConformer()\n",
    "conf = rdkitts.GetConformer()\n",
    "rd_mol = rdkitts.ToRDMol()\n",
    "\n",
    "all_volumes = []\n",
    "for bk in check_bookkeep:\n",
    "    rnd_sample = np.random.randint(400, size=10)\n",
    "    volume = np.zeros_like(rnd_sample)\n",
    "    for index in range(rnd_sample.shape[0]):\n",
    "        conf.SetPositions(bk[index]['coords'])\n",
    "        volume[index] = Chem.AllChem.ComputeMolVolume(rd_mol)\n",
    "    all_volumes.append(volume)"
   ]
  },
  {
   "cell_type": "code",
   "execution_count": null,
   "metadata": {},
   "outputs": [],
   "source": [
    "ax = sns.violinplot(data=all_volumes)\n",
    "ax.set_xlabel('group index')\n",
    "ax.set_ylabel('volume')\n",
    "for tick in ax.get_xticklabels():\n",
    "    tick.set_rotation(90)"
   ]
  },
  {
   "cell_type": "markdown",
   "metadata": {},
   "source": [
    "### [OPTIONAL] Align Conformers\n",
    "You can also align molecules stored in the `bookkeep`. The RMSD of each conformer (initial conformer as reference) is also generated `rmsd_list`"
   ]
  },
  {
   "cell_type": "code",
   "execution_count": null,
   "metadata": {},
   "outputs": [],
   "source": [
    "# to_align = bookkeep  # Example 1\n",
    "to_align = bookkeeps[3]  # Example 2"
   ]
  },
  {
   "cell_type": "code",
   "execution_count": null,
   "metadata": {},
   "outputs": [],
   "source": [
    "from rdkit import Chem\n",
    "\n",
    "rdkitts.EmbedMultipleConfs(len(to_align))\n",
    "confs = rdkitts.GetAllConformers()\n",
    "torsions_values = []\n",
    "for i, value in to_align.items():\n",
    "    confs[i].SetPositions(value['coords'])\n",
    "    torsion_value = np.array(confs[i].GetAllTorsionsDeg())\n",
    "    torsions_values.append(torsion_value)\n",
    "rd_mol = rdkitts.ToRDMol()\n",
    "\n",
    "rmsd_list = []\n",
    "Chem.rdMolAlign.AlignMolConformers(rd_mol, maxIters=50, RMSlist=rmsd_list)"
   ]
  },
  {
   "cell_type": "markdown",
   "metadata": {},
   "source": [
    "View alignment by py3Dmol, this may take some time. {"
   ]
  },
  {
   "cell_type": "code",
   "execution_count": null,
   "metadata": {
    "scrolled": false
   },
   "outputs": [],
   "source": [
    "import py3Dmol\n",
    "\n",
    "view = py3Dmol.view(width=600, height=400)\n",
    "for i in range(len(bookkeep)):\n",
    "    view.addModel(Chem.MolToMolBlock(rd_mol, confId=i), 'sdf')\n",
    "view.setStyle({'stick':{'colorscheme':'cyanCarbon'}})\n",
    "view.render()"
   ]
  },
  {
   "cell_type": "markdown",
   "metadata": {},
   "source": [
    "## 2. Calculate Psi4 on the notebook"
   ]
  },
  {
   "cell_type": "markdown",
   "metadata": {},
   "source": [
    "This section is only for testing instead of actual tasks.\n",
    "From experience, for conformer search purpose, better to use `n_threads_each_calculation = 1` and use `n_worker` as many as possible"
   ]
  },
  {
   "cell_type": "code",
   "execution_count": null,
   "metadata": {},
   "outputs": [],
   "source": [
    "# How many threads to use as worker\n",
    "n_worker = 8  # -1 to use all threads\n",
    "n_memory_each_calculation = 12000 / n_worker  # Assuming you have \n",
    "n_threads_each_calculation = 1\n",
    "reference = 'uhf'\n",
    "level_of_theory = 'b3lyp/def2-svp'"
   ]
  },
  {
   "cell_type": "code",
   "execution_count": null,
   "metadata": {},
   "outputs": [],
   "source": [
    "def geom_producer(bookkeep, xyz_dict):\n",
    "    for ind, conf in bookkeep.items():\n",
    "        xyz_dict['coords'] = conf['coords']\n",
    "        xyz_file = xyz_dict_to_xyz_file(xyz_dict)\n",
    "        yield (ind, xyz_file)\n",
    "        \n",
    "def get_psi4_dftenergy(ind, xyz_file):\n",
    "    psi4.set_memory(f'{n_memory_each_calculation} MB')\n",
    "    psi4.set_options({'reference': reference})\n",
    "    try:\n",
    "        psi4.geometry(xyz_file)\n",
    "        psi4.set_num_threads(n_threads_each_calculation)\n",
    "        return (ind, psi4.energy(level_of_theory))\n",
    "    except Exception as e:\n",
    "        print(e)\n",
    "        return (ind, 1e4)"
   ]
  },
  {
   "cell_type": "code",
   "execution_count": null,
   "metadata": {},
   "outputs": [],
   "source": [
    "result = Parallel(n_jobs=n_worker, verbose=100) \\\n",
    "         (delayed(get_psi4_dftenergy)(*data) for data in geom_producer(bookkeep, xyz_dict))"
   ]
  },
  {
   "cell_type": "code",
   "execution_count": null,
   "metadata": {},
   "outputs": [],
   "source": []
  }
 ],
 "metadata": {
  "@webio": {
   "lastCommId": null,
   "lastKernelId": null
  },
  "kernelspec": {
   "display_name": "Python 3.7.6 64-bit ('arc_env': conda)",
   "language": "python",
   "name": "python37664bitarcenvconda83c4abf9215d4a698ce68e2a44e6e6bc"
  },
  "language_info": {
   "codemirror_mode": {
    "name": "ipython",
    "version": 3
   },
   "file_extension": ".py",
   "mimetype": "text/x-python",
   "name": "python",
   "nbconvert_exporter": "python",
   "pygments_lexer": "ipython3",
   "version": "3.7.7"
  },
  "latex_envs": {
   "LaTeX_envs_menu_present": true,
   "autoclose": false,
   "autocomplete": true,
   "bibliofile": "biblio.bib",
   "cite_by": "apalike",
   "current_citInitial": 1,
   "eqLabelWithNumbers": true,
   "eqNumInitial": 1,
   "hotkeys": {
    "equation": "Ctrl-E",
    "itemize": "Ctrl-I"
   },
   "labels_anchors": false,
   "latex_user_defs": false,
   "report_style_numbering": false,
   "user_envs_cfg": false
  },
  "toc": {
   "base_numbering": 1,
   "nav_menu": {},
   "number_sections": true,
   "sideBar": true,
   "skip_h1_title": false,
   "title_cell": "Table of Contents",
   "title_sidebar": "Contents",
   "toc_cell": false,
   "toc_position": {},
   "toc_section_display": true,
   "toc_window_display": false
  },
  "varInspector": {
   "cols": {
    "lenName": 16,
    "lenType": 16,
    "lenVar": 40
   },
   "kernels_config": {
    "python": {
     "delete_cmd_postfix": "",
     "delete_cmd_prefix": "del ",
     "library": "var_list.py",
     "varRefreshCmd": "print(var_dic_list())"
    },
    "r": {
     "delete_cmd_postfix": ") ",
     "delete_cmd_prefix": "rm(",
     "library": "var_list.r",
     "varRefreshCmd": "cat(var_dic_list()) "
    }
   },
   "types_to_exclude": [
    "module",
    "function",
    "builtin_function_or_method",
    "instance",
    "_Feature"
   ],
   "window_display": false
  }
 },
 "nbformat": 4,
 "nbformat_minor": 4
}
