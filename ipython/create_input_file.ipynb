{
 "cells": [
  {
   "cell_type": "code",
   "execution_count": 1,
   "metadata": {},
   "outputs": [],
   "source": [
    "import yaml"
   ]
  },
  {
   "cell_type": "code",
   "execution_count": 4,
   "metadata": {},
   "outputs": [],
   "source": [
    "xyz_str=\"\"\"C          0.86917        1.50073       -0.41702\n",
    "C         -0.47607        2.03752        0.01854\n",
    "H          0.85087        0.99684       -1.38520\n",
    "H          1.16254        0.53083        0.35265\n",
    "C         -1.66031        1.18407       -0.41323\n",
    "H         -0.48474        2.19298        1.10199\n",
    "H         -0.61511        3.02720       -0.42857\n",
    "N         -1.64328       -0.19909        0.05343\n",
    "H         -1.68450        1.15374       -1.50571\n",
    "H         -2.58945        1.68138       -0.08673\n",
    "C         -2.74796       -0.93786       -0.53898\n",
    "C         -1.67887       -0.29955        1.50384\n",
    "H         -2.69951       -1.98186       -0.22875\n",
    "H         -3.72671       -0.52994       -0.24178\n",
    "H         -2.67337       -0.90452       -1.62638\n",
    "H         -1.69925       -1.35091        1.79085\n",
    "H         -2.56817        0.19427        1.92693\n",
    "H         -0.78293        0.13647        1.93981\n",
    "O          1.61241       -0.39643        1.10878\n",
    "O          2.26285       -1.25639        0.24798\n",
    "C          1.32762       -2.20908       -0.22666\n",
    "O          0.43662       -1.69114       -1.13896\n",
    "H          1.94625       -2.95523       -0.72774\n",
    "H          0.82192       -2.64082        0.64549\n",
    "H         -0.24063       -1.15943       -0.66324\n",
    "N          1.91323        2.44655       -0.35205\n",
    "H          1.98740        2.90733        0.54373\n",
    "H          2.80917        2.06603       -0.61836\n",
    "\"\"\""
   ]
  },
  {
   "cell_type": "code",
   "execution_count": 8,
   "metadata": {},
   "outputs": [],
   "source": [
    "project_info = {\n",
    "    'project': 'ts_test',\n",
    "    'is_initial_sp_screening': True,\n",
    "    'initial_screening_sp_level_of_theory': 'wb97x-d/def2-svp',\n",
    "    'species': {\n",
    "        'name': 'ts',\n",
    "        'is_ts': True,\n",
    "        'multiplicity': 2,\n",
    "        'charge': 0,\n",
    "\n",
    "        'coord': {\n",
    "            'xyz_str': xyz_str,\n",
    "        },\n",
    "    },\n",
    "}"
   ]
  },
  {
   "cell_type": "code",
   "execution_count": 9,
   "metadata": {},
   "outputs": [],
   "source": [
    "with open('input.yml', 'w') as outfile:\n",
    "    yaml.dump(project_info, outfile, default_flow_style=False)"
   ]
  },
  {
   "cell_type": "code",
   "execution_count": 10,
   "metadata": {},
   "outputs": [],
   "source": [
    "import random"
   ]
  },
  {
   "cell_type": "code",
   "execution_count": null,
   "metadata": {},
   "outputs": [],
   "source": []
  }
 ],
 "metadata": {
  "kernelspec": {
   "display_name": "Python 3",
   "language": "python",
   "name": "python3"
  },
  "language_info": {
   "codemirror_mode": {
    "name": "ipython",
    "version": 3
   },
   "file_extension": ".py",
   "mimetype": "text/x-python",
   "name": "python",
   "nbconvert_exporter": "python",
   "pygments_lexer": "ipython3",
   "version": "3.7.7"
  }
 },
 "nbformat": 4,
 "nbformat_minor": 4
}
