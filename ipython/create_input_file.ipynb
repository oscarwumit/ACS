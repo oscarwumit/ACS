{
 "cells": [
  {
   "cell_type": "code",
   "execution_count": 1,
   "metadata": {},
   "outputs": [],
   "source": [
    "import yaml"
   ]
  },
  {
   "cell_type": "code",
   "execution_count": 2,
   "metadata": {},
   "outputs": [],
   "source": [
    "xyz_str=\"\"\"N                 -2.54506200   -1.35028600    0.11996600\n",
    "C                 -1.68633200   -0.57208300    0.06492200\n",
    "C                 -0.57284500    0.34231000   -0.01005800\n",
    "C                 -0.22311100    1.01563000    1.30604500\n",
    "C                 -0.58749200    1.26162400   -1.21911600\n",
    "H                  0.76098100    1.50082800    1.21757700\n",
    "H                 -0.18624700    0.29112100    2.13309000\n",
    "H                 -0.96074900    1.79128500    1.57043300\n",
    "H                 -1.35505800    2.04655600   -1.11642400\n",
    "H                 -0.79150500    0.70593900   -2.14541900\n",
    "H                  0.39178400    1.75461800   -1.31888300\n",
    "C                  1.72975200   -1.00537700   -0.39481100\n",
    "O                  2.66750600   -0.14248100    0.10978300\n",
    "H                  1.64850700   -1.98242300    0.10793200\n",
    "H                  0.47846200   -0.44234700   -0.22870200\n",
    "H                  1.82078100   -1.08551200   -1.48506900\n",
    "H                  2.70860700   -0.24083300    1.06554600\n",
    "\"\"\""
   ]
  },
  {
   "cell_type": "code",
   "execution_count": 3,
   "metadata": {},
   "outputs": [],
   "source": [
    "xyz_str = '\\n'.join(xyz_str.split('\\n')[0:-1])"
   ]
  },
  {
   "cell_type": "code",
   "execution_count": 4,
   "metadata": {},
   "outputs": [
    {
     "name": "stdout",
     "output_type": "stream",
     "text": [
      "16\n",
      "N                 -2.54506200   -1.35028600    0.11996600\n",
      "C                 -1.68633200   -0.57208300    0.06492200\n",
      "C                 -0.57284500    0.34231000   -0.01005800\n",
      "C                 -0.22311100    1.01563000    1.30604500\n",
      "C                 -0.58749200    1.26162400   -1.21911600\n",
      "H                  0.76098100    1.50082800    1.21757700\n",
      "H                 -0.18624700    0.29112100    2.13309000\n",
      "H                 -0.96074900    1.79128500    1.57043300\n",
      "H                 -1.35505800    2.04655600   -1.11642400\n",
      "H                 -0.79150500    0.70593900   -2.14541900\n",
      "H                  0.39178400    1.75461800   -1.31888300\n",
      "C                  1.72975200   -1.00537700   -0.39481100\n",
      "O                  2.66750600   -0.14248100    0.10978300\n",
      "H                  1.64850700   -1.98242300    0.10793200\n",
      "H                  0.47846200   -0.44234700   -0.22870200\n",
      "H                  1.82078100   -1.08551200   -1.48506900\n",
      "H                  2.70860700   -0.24083300    1.06554600\n"
     ]
    }
   ],
   "source": [
    "print(len(xyz_str.split('\\n')[0:-1]))\n",
    "print(xyz_str)"
   ]
  },
  {
   "cell_type": "code",
   "execution_count": 5,
   "metadata": {},
   "outputs": [],
   "source": [
    "name = 'test'\n",
    "project_info = {\n",
    "    'project': name,\n",
    "    'n_point_each_torsion': 20,\n",
    "    'calc_solvation_sp_correction': True,\n",
    "    'is_initial_sp_screening': True,\n",
    "    \n",
    "    'level_of_theory': {\n",
    "                    'initial_screening_sp': 'wb97x-d/def2-svp',  \n",
    "                    'opt_freq': 'B3LYP/CBSB7',  \n",
    "                    'fine_opt_freq': 'CBS-QB3',  \n",
    "                    'sp_after_opt': None, \n",
    "                    'solv_sp_gas': None,  \n",
    "                    'solv_sp_liq': None,\n",
    "                    'solv_correction': 'cosmo',  \n",
    "                    },\n",
    "    \n",
    "    'species': {\n",
    "        'name': name,\n",
    "        'is_ts': True,\n",
    "        'multiplicity': 2,\n",
    "        'charge': 0,\n",
    "\n",
    "        'coord': {\n",
    "            'xyz_str': xyz_str,\n",
    "        },\n",
    "    },\n",
    "}"
   ]
  },
  {
   "cell_type": "code",
   "execution_count": 6,
   "metadata": {},
   "outputs": [],
   "source": [
    "with open('input.yml', 'w') as outfile:\n",
    "    yaml.dump(project_info, outfile, default_flow_style=False)"
   ]
  },
  {
   "cell_type": "code",
   "execution_count": null,
   "metadata": {},
   "outputs": [],
   "source": []
  }
 ],
 "metadata": {
  "kernelspec": {
   "display_name": "Python 3",
   "language": "python",
   "name": "python3"
  },
  "language_info": {
   "codemirror_mode": {
    "name": "ipython",
    "version": 3
   },
   "file_extension": ".py",
   "mimetype": "text/x-python",
   "name": "python",
   "nbconvert_exporter": "python",
   "pygments_lexer": "ipython3",
   "version": "3.7.7"
  }
 },
 "nbformat": 4,
 "nbformat_minor": 4
}
